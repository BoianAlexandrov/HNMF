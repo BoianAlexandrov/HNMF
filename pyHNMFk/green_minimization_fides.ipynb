{
  "cells": [
    {
      "cell_type": "markdown",
      "metadata": {
        "colab_type": "text",
        "id": "view-in-github"
      },
      "source": [
        "<a href=\"https://colab.research.google.com/github/Vesalon/xla-nmf/blob/main/notebooks/green_minimization_fides.ipynb\" target=\"_parent\"><img src=\"https://colab.research.google.com/assets/colab-badge.svg\" alt=\"Open In Colab\"/></a>"
      ]
    },
    {
      "cell_type": "code",
      "execution_count": 1,
      "metadata": {
        "colab": {
          "base_uri": "https://localhost:8080/"
        },
        "id": "0Jh9wPimh4OS",
        "outputId": "ee69e013-a515-4594-9cce-d416f7816eb1"
      },
      "outputs": [],
      "source": [
        "#!pip install fides"
      ]
    },
    {
      "cell_type": "code",
      "execution_count": 2,
      "metadata": {
        "id": "2v0MLj8T5txU"
      },
      "outputs": [],
      "source": [
        "import jax.numpy as jnp\n",
        "import jax\n",
        "jax.config.update(\"jax_enable_x64\", True)\n",
        "jax.config.update(\"jax_debug_nans\", True)\n",
        "import os\n",
        "import fides\n",
        "import pandas as pd\n",
        "from sklearn.cluster import KMeans\n",
        "from sklearn.metrics import silhouette_score, silhouette_samples\n",
        "import numpy as np\n",
        "import math\n",
        "import time\n",
        "import logging\n",
        "import graphviz\n",
        "from functools import partial\n",
        "import sys\n",
        "from matplotlib import pyplot as plt"
      ]
    },
    {
      "cell_type": "code",
      "execution_count": 3,
      "metadata": {
        "id": "ZNE81o8ltkGg"
      },
      "outputs": [],
      "source": [
        "#~~~~~~~~~~~~~~~~~~~~~~~~~~~~~~~~~~~~~~~~~~~~~~~~~~~~~~~~~~~#\n",
        "#       set true variables for generated observations       #\n",
        "#~~~~~~~~~~~~~~~~~~~~~~~~~~~~~~~~~~~~~~~~~~~~~~~~~~~~~~~~~~~#\n",
        "\n",
        "### parameters ###\n",
        "\n",
        "# The amplitudes of the original sources\n",
        "\n",
        "# 2 sources \n",
        "# As = np.array([0.5, 0.7])\n",
        "# # positions of the source\n",
        "# Xs = np.array([\n",
        "#     [-0.1, -0.2],\n",
        "#     [-0.9, -0.8]\n",
        "# ])\n",
        "\n",
        "# 3 sources\n",
        "# As = np.array([0.25, 0.6,0.2])\n",
        "# # positions of the source\n",
        "# Xs = np.array([\n",
        "#     [-0.36, -0.2],\n",
        "#     [-0.08, -0.2],\n",
        "#     [0.15,-0.16]\n",
        "# ])\n",
        "\n",
        "# #4 sources\n",
        "# As = np.array([0.4, 0.3,0.2,0.1])\n",
        "# # positions of the source\n",
        "# Xs = np.array([\n",
        "#   [0.1,0.5],\n",
        "#   [-0.1,0.3],\n",
        "#   [0.1,0.0],\n",
        "#   [-0.1,-0.2]\n",
        "# ])\n",
        "\n",
        "# # 5 sources\n",
        "As = np.array([0.4, 0.3,0.2,0.5,0.7])\n",
        "# positions of the source\n",
        "Xs = np.array([\n",
        "  [-0.25,0.45],\n",
        "  [-0.08,0.2],\n",
        "  [-0.15,0.25],\n",
        "  [0.1,-0.1],\n",
        "  [0.3,0.3]\n",
        "])\n",
        "\n",
        "\n",
        "\n",
        "\n",
        "# Advection velocity\n",
        "u_scaler = 0.05\n",
        "# U = tf_c(np.array([0.05, 0]))\n",
        "# Dispersivity\n",
        "D = np.array([0.005, 0.00125])\n",
        "\n",
        "\n",
        "### fixed known values ###\n",
        "\n",
        "# the initial time the sources begin the release\n",
        "Ts = -10.\n",
        "\n",
        "# positions of the detectors\n",
        "Xd = np.array([\n",
        "    [0, 0],\n",
        "    [-0.5, -0.5],\n",
        "    [0.5, 0.5],\n",
        "    [0.5, -0.5]\n",
        "])\n",
        "\n",
        "\n",
        "Xd = np.array([\n",
        "[ -0.2,0.6],\n",
        "[0,0.6],\n",
        "[0.2,0.6],\n",
        "[0.4,0.6],\n",
        "[0.6,0.6],\n",
        "[-0.2,0.4],\n",
        "[0,0.4],\n",
        "[0.2,0.4],\n",
        "[0.4,0.4],\n",
        "[0.6,0.4],\n",
        "[-0.2,0.2],\n",
        "[0,0.2],\n",
        "[0.2,0.2],\n",
        "[0.4,0.2],\n",
        "[0.6,0.2],\n",
        "[-0.2,0.0],\n",
        "[0,0.0],\n",
        "[0.2,0.0],\n",
        "[0.4,0.0],\n",
        "[0.6,0.0],\n",
        "[-0.2,-0.2],\n",
        "[0,-0.2],\n",
        "[0.2,-0.2],\n",
        "[0.4,-0.2],\n",
        "[0.6,-0.2],\n",
        "[-0.2,-0.4],\n",
        "[0,-0.4],\n",
        "[0.2,-0.4],\n",
        "[0.4,-0.4],\n",
        "[0.6,-0.4]\n",
        "\n",
        "])\n",
        "\n",
        "\n",
        "# time values of data\n",
        "t = np.linspace(0, 20, 80)\n",
        "\n",
        "# noise to add to \n",
        "noise_level = 1e-4"
      ]
    },
    {
      "cell_type": "code",
      "execution_count": 4,
      "metadata": {
        "id": "VN6R7ZO060_R"
      },
      "outputs": [],
      "source": [
        "# Helpers - input shaping, generating bounds and initial points\n",
        "\n",
        "def gen_flat_bounds(num_sources):\n",
        "    upper_bounds = (\n",
        "        1.5*np.ones(num_sources),\n",
        "        np.ones((num_sources, 2)),\n",
        "        np.ones(1),\n",
        "        np.ones(2),\n",
        "    )\n",
        "    # instead of 0, use epsilon of 1e-10\n",
        "    lower_bounds = (\n",
        "        1e-10*np.ones(num_sources),\n",
        "        -1*np.ones((num_sources, 2)),\n",
        "        1e-10*np.ones(1),\n",
        "        1e-10*np.ones(2),\n",
        "    )\n",
        "    upper_bounds, _ = flatten_inputs(*upper_bounds)\n",
        "    lower_bounds, _ = flatten_inputs(*lower_bounds)\n",
        "    return upper_bounds, lower_bounds\n",
        "\n",
        "def gen_init(num_sources):\n",
        "    return (\n",
        "        np.random.rand(num_sources),\n",
        "        2*(0.5 - np.random.rand(num_sources, 2)),\n",
        "        np.random.rand(1),\n",
        "        np.random.rand(2),\n",
        "    )\n",
        "\n",
        "def num_source2shapes(num_sources):\n",
        "    sample_input = gen_init(num_sources)\n",
        "    _, input_shapes = flatten_inputs(*sample_input)\n",
        "    return input_shapes\n",
        "\n",
        "def flatten_inputs(*inputs):\n",
        "    flat = []\n",
        "    shapes = []\n",
        "    for input in inputs:\n",
        "        shapes.append(input.shape)\n",
        "        flat.extend(input.flatten())\n",
        "    return np.array(flat), tuple(shapes)\n",
        "\n",
        "def unflatten_inputs(flat_inputs, shapes):\n",
        "    i = 0\n",
        "    inputs = []\n",
        "    for shape in shapes:\n",
        "        size = np.prod(shape)\n",
        "        inputs.append(np.reshape(flat_inputs[i:i+size], shape))\n",
        "        i+=size\n",
        "    return inputs\n"
      ]
    },
    {
      "cell_type": "code",
      "execution_count": 5,
      "metadata": {
        "id": "0QbjbBXFUMIk"
      },
      "outputs": [],
      "source": [
        "# green model functions using JAX\n",
        "\n",
        "@partial(jax.jit, static_argnames=['length'])\n",
        "def identity_vec(length):\n",
        "    # returns vector that looks like [1 0 .. 0]\n",
        "    return jnp.squeeze(jax.lax.slice(jnp.identity(length), (0, 0), (1, length)))\n",
        "\n",
        "@jax.jit\n",
        "def green(a_s, x_s, t_s, x_d, t, U, D):\n",
        "    # make matrix nt x dims\n",
        "    t_offset = t-t_s\n",
        "    xx_s = jax.lax.broadcast_in_dim(x_s, (x_s.shape[0], t.shape[0]), (0,)).T\n",
        "    xx_d = jax.lax.broadcast_in_dim(x_d, (x_d.shape[0], t.shape[0]), (0,)).T\n",
        "    tt = jax.lax.broadcast_in_dim(t_offset, (x_s.shape[0], t.shape[0]), (1,)).T\n",
        "\n",
        "    xx = xx_d - xx_s - U*tt\n",
        "    gaussians = (-xx**2)\n",
        "    gaussians = gaussians/(4*D*tt)\n",
        "    gaussians = jnp.exp(gaussians)\n",
        "\n",
        "    dividend = jnp.prod(D)\n",
        "    dividend = jnp.sqrt(dividend)\n",
        "    dividend = dividend*(t_offset)\n",
        "    dividend = 4*math.pi*dividend\n",
        "\n",
        "    res = a_s*jnp.prod(gaussians, axis=1)/dividend\n",
        "    return res\n",
        "\n",
        "green_detector_mapped = jax.vmap(\n",
        "    green,\n",
        "    in_axes=(None, None, None, 0, None, None, None)\n",
        ")\n",
        "green_matrix = jax.vmap(\n",
        "    green_detector_mapped,\n",
        "    in_axes=(0, 0, None, None, None, None, None)\n",
        ")\n",
        "\n",
        "@jax.jit\n",
        "def reconstruct_general(A_s, X_s, T_s, X_d, t, U, D):\n",
        "    U = U * identity_vec(D.shape[0])\n",
        "    return jnp.transpose(jnp.sum(green_matrix(A_s, X_s, T_s, X_d, t, U, D), axis=0))\n"
      ]
    },
    {
      "cell_type": "code",
      "execution_count": 6,
      "metadata": {
        "id": "tbHtiieyRRBT"
      },
      "outputs": [],
      "source": [
        "# set up partial functions to set up non-trainable values as constants for jax compilation and autodiff\n",
        "\n",
        "def make_model_fn(T_s, X_d, t): # constants\n",
        "    def model_fn(A_s, X_s, U, D): # parameters/model variables\n",
        "        return reconstruct_general(A_s, X_s, T_s, X_d, t, U, D) # all inputs into original function\n",
        "    return jax.jit(model_fn)\n",
        "\n",
        "# need to set up flattening so that residual function has 1d array as both input and output (R^m -> R^n)\n",
        "\n",
        "def make_flat_resids_fn(model_fn, observations, num_sources):\n",
        "    input_shapes = num_source2shapes(num_sources)\n",
        "    unflatten_func = jax.jit(partial(unflatten_inputs, shapes=input_shapes))\n",
        "    def resid(flat_input):\n",
        "        inputs = unflatten_func(flat_input)\n",
        "        return jnp.ravel(model_fn(*inputs) - observations)\n",
        "    return jax.jit(resid)"
      ]
    },
    {
      "cell_type": "code",
      "execution_count": 7,
      "metadata": {
        "id": "cO1L-a637d4S"
      },
      "outputs": [],
      "source": [
        "# Analysis functions - to be applied to the results dataframe returned by NMF runs\n",
        "\n",
        "def filter_quantile(res, col_to_filter='fval', quantile=0.25):\n",
        "    return res[\n",
        "        res[col_to_filter] < res[col_to_filter].quantile(q=quantile)\n",
        "    ]\n",
        "\n",
        "def extract_point(sol, num_sources):\n",
        "    # extract source amplitudes and positions to use as points for clustering\n",
        "    points = []\n",
        "    input_shapes = num_source2shapes(num_sources)\n",
        "    sol = unflatten_inputs(sol, input_shapes)\n",
        "    a = sol[0] # amplitudes\n",
        "    x = sol[1] # locations\n",
        "    for p in range(len(a)):\n",
        "        point = [a[p]]\n",
        "        point.extend(x[p])\n",
        "        points.append(point)\n",
        "    return points\n",
        "\n",
        "def extract_points(res):\n",
        "    res['points'] = res['sol'].apply(lambda x: extract_point(x, res['num_sources'].iloc[0]))\n",
        "    return res\n",
        "\n",
        "def AIC(sill_avg, recon, num_resids, num_sources, sill_cutoff=0.7):\n",
        "    aic_scores = []\n",
        "    if sill_avg > sill_cutoff:\n",
        "        aic = 2*num_sources + num_resids*math.log(recon/num_resids)\n",
        "    else:\n",
        "        aic = np.inf\n",
        "    return aic\n",
        "\n",
        "def result_analysis(res, num_resids):\n",
        "    num_sources = res['num_sources'].iloc[0]\n",
        "    points = res['points'].sum()\n",
        "    if num_sources == 1:\n",
        "        centers = pd.DataFrame(points).mean().tolist()\n",
        "        avgsill = 1\n",
        "        min_Sil = 1\n",
        "    else:\n",
        "        # kmeans = KMeans(\n",
        "        #     init='random',\n",
        "        #     n_clusters = num_sources,\n",
        "        #     n_init=10,\n",
        "        #     max_iter=300\n",
        "        # )\n",
        "        # kmeans.fit(points)\n",
        "        # centers = kmeans.cluster_centers_\n",
        "        # sill = silhouette_score(points, kmeans.labels_)\n",
        "        import clusts as clst\n",
        "        from numpy.random import SeedSequence\n",
        "        from numpy.random import Generator, PCG64DXSM, SeedSequence\n",
        "        Wall = np.asarray(points).T\n",
        "        Hall = np.random.rand (Wall.shape[1], 10)  \n",
        "        seed_seq     = SeedSequence()\n",
        "        cluster_generators   = seed_seq.spawn(num_sources)\n",
        "        cluster_rand_seq = cluster_generators[num_sources-1]\n",
        "        print(\"Clustering \",num_sources)\n",
        "        centers, random_exposures, processSTE,  exposureSTE, avgSilhouetteCoefficients, clusterSilhouetteCoefficients=clst.cluster_converge_outerloop(Wall, Hall, num_sources, dist=\"cosine\" ,cluster_rand_seq=cluster_rand_seq,n_cpu=-1)\n",
        "        avgsill =  avgSilhouetteCoefficients\n",
        "        min_Sil= clusterSilhouetteCoefficients.min()\n",
        "\n",
        "    recon = res['normF'].mean()\n",
        "    aic_score = AIC(avgsill, recon, num_resids, num_sources)\n",
        "\n",
        "    return pd.DataFrame({\n",
        "        'num_source': [num_sources],\n",
        "        'aic_score': [aic_score],\n",
        "        'avg_sillhouette_score': [avgsill],\n",
        "        'min_sillhouette_score': [min_Sil],\n",
        "        'reconstruction_loss': [recon],\n",
        "        'centers': [centers]\n",
        "    })\n"
      ]
    },
    {
      "cell_type": "markdown",
      "metadata": {
        "id": "78TuI3sQuJiF"
      },
      "source": [
        "# NMF run"
      ]
    },
    {
      "cell_type": "code",
      "execution_count": 8,
      "metadata": {
        "colab": {
          "base_uri": "https://localhost:8080/"
        },
        "id": "104CUyVIsXb_",
        "outputId": "1a3f7524-de0e-44a1-c09b-dfb2b9e3ca8e"
      },
      "outputs": [],
      "source": [
        "# generate observations from target variables with small noise\n",
        "\n",
        "model_fn = make_model_fn(Ts, Xd, t)\n",
        "observations = model_fn(As, Xs, np.array([u_scaler]), D)\n",
        "noise = noise_level/2 - noise_level*np.random.rand(*observations.shape)\n",
        "observations += noise\n",
        "\n",
        "AA = 0 # some normalization factor to be used for AIC calculation later\n",
        "for i in range(observations.shape[1]):\n",
        "    AA += np.sum(observations[:, i]**2)"
      ]
    },
    {
      "cell_type": "code",
      "execution_count": 9,
      "metadata": {
        "id": "OPKh5QsuCqnO"
      },
      "outputs": [],
      "source": [
        "def setup_optimizer(num_sources):\n",
        "    resid = jax.jit(make_flat_resids_fn(model_fn, observations, num_sources))\n",
        "    resid_jac = jax.jit(jax.jacfwd(resid)) # explicitly set forward mode autodiff\n",
        "\n",
        "    # return fval, grad, and (gauss_newton) hessian using resid and resid_jac functions\n",
        "    def obj(x):\n",
        "        r = resid(x)\n",
        "        jac_r = resid_jac(x)\n",
        "        loss = 0.5*jnp.sum(jnp.square(r))\n",
        "        grad = jnp.matmul(r.T, jac_r)\n",
        "        hess = jnp.matmul(jac_r.T, jac_r)\n",
        "        return float(loss), np.asarray(grad), np.asarray(hess)\n",
        "\n",
        "    ub, lb = gen_flat_bounds(num_sources)\n",
        "    # fides optimizer object\n",
        "    opt = fides.Optimizer(\n",
        "        obj,\n",
        "        ub=ub,\n",
        "        lb=lb,\n",
        "        options={\n",
        "            'maxiter': 400,\n",
        "            'xtol': 1e-6,\n",
        "            'stepback_strategy': 'truncate',\n",
        "            },\n",
        "        verbose = logging.ERROR\n",
        "    )\n",
        "\n",
        "    return opt"
      ]
    },
    {
      "cell_type": "code",
      "execution_count": 10,
      "metadata": {
        "colab": {
          "base_uri": "https://localhost:8080/"
        },
        "id": "Lz8ChNAqOqUk",
        "outputId": "41ab35cf-1033-4e4e-c164-92752deb5aac"
      },
      "outputs": [
        {
          "name": "stdout",
          "output_type": "stream",
          "text": [
            "DONE WITH RUNNING 1000 SIMULATIONS FOR 1 SOURCE, TOOK 112.95297932624817 SECONDS\n",
            "DONE WITH RUNNING 1000 SIMULATIONS FOR 2 SOURCE, TOOK 118.17064595222473 SECONDS\n",
            "DONE WITH RUNNING 1000 SIMULATIONS FOR 3 SOURCE, TOOK 187.03818321228027 SECONDS\n"
          ]
        },
        {
          "name": "stderr",
          "output_type": "stream",
          "text": [
            "/opt/anaconda3/envs/hnmf/lib/python3.10/site-packages/fides/steps.py:194: RuntimeWarning: overflow encountered in divide\n",
            "  (self.ub[nonzero] - self.x[nonzero]) / self.s[nonzero],\n",
            "/opt/anaconda3/envs/hnmf/lib/python3.10/site-packages/fides/steps.py:195: RuntimeWarning: overflow encountered in divide\n",
            "  (self.lb[nonzero] - self.x[nonzero]) / self.s[nonzero],\n"
          ]
        },
        {
          "name": "stdout",
          "output_type": "stream",
          "text": [
            "DONE WITH RUNNING 1000 SIMULATIONS FOR 4 SOURCE, TOOK 212.60963201522827 SECONDS\n",
            "DONE WITH RUNNING 1000 SIMULATIONS FOR 5 SOURCE, TOOK 740.962620973587 SECONDS\n",
            "DONE WITH RUNNING 1000 SIMULATIONS FOR 6 SOURCE, TOOK 612.1941528320312 SECONDS\n"
          ]
        },
        {
          "name": "stderr",
          "output_type": "stream",
          "text": [
            "/opt/anaconda3/envs/hnmf/lib/python3.10/site-packages/fides/steps.py:194: RuntimeWarning: overflow encountered in divide\n",
            "  (self.ub[nonzero] - self.x[nonzero]) / self.s[nonzero],\n",
            "/opt/anaconda3/envs/hnmf/lib/python3.10/site-packages/fides/steps.py:195: RuntimeWarning: overflow encountered in divide\n",
            "  (self.lb[nonzero] - self.x[nonzero]) / self.s[nonzero],\n"
          ]
        },
        {
          "name": "stdout",
          "output_type": "stream",
          "text": [
            "DONE WITH RUNNING 1000 SIMULATIONS FOR 7 SOURCE, TOOK 822.4340102672577 SECONDS\n"
          ]
        }
      ],
      "source": [
        "# run NMF for up to max_num_sources\n",
        "\n",
        "nsim=1000\n",
        "max_num_sources = 7\n",
        "OUTPUTDIR = \"Results/\"\n",
        "sill_avg = []\n",
        "recon = []\n",
        "all_results = pd.DataFrame(columns=['fval', 'sol', 'grad', 'hess', 'normF', 'num_sources'])\n",
        "errors = []\n",
        "\n",
        "os.makedirs(OUTPUTDIR,exist_ok=True)\n",
        "\n",
        "for num_sources in range(1, max_num_sources+1):\n",
        "# for num_sources in range(4, 5):\n",
        "    ### define optimization object ###\n",
        "    t1 = time.time()\n",
        "    opt = setup_optimizer(num_sources)\n",
        "    ### run minimization on nsim random inits ###\n",
        "\n",
        "    results = []\n",
        "    for i in range(nsim):\n",
        "        flat_init, _ = flatten_inputs(*gen_init(num_sources))\n",
        "        try:\n",
        "            res = opt.minimize(np.asarray(flat_init))\n",
        "            results.append(res)\n",
        "        # except RuntimeError as exc:\n",
        "        #     print('hit error in fides, skipping iteration and printing error')\n",
        "        #     print(exc)\n",
        "        #     print('\\n\\n')\n",
        "        # except FloatingPointError as fl_exc:\n",
        "        #     print('hit error in jax, skipping iteration and printing error')\n",
        "        #     print(fl_exc)\n",
        "        #     print('\\n\\n')\n",
        "        except:\n",
        "            the_type, the_value, the_traceback = sys.exc_info()\n",
        "            errors.append((the_type, the_value, the_traceback))\n",
        "            print(the_type)\n",
        "    res = pd.DataFrame(columns=['fval', 'sol', 'grad', 'hess'], data=results)\n",
        "    # norm from matlab HNMF code\n",
        "    res['normF'] = np.sqrt((res['fval']/AA))*100\n",
        "    res['num_sources'] = num_sources\n",
        "    all_results = pd.concat([all_results, res])\n",
        "    all_results.to_csv(OUTPUTDIR+\"Results_optimization_sources_\"+str(num_sources)+\".csv\",sep='\\t',index=False)\n",
        "    t2 = time.time()\n",
        "    print(f'DONE WITH RUNNING {len(results)} SIMULATIONS FOR {num_sources} SOURCE, TOOK {t2-t1} SECONDS')"
      ]
    },
    {
      "cell_type": "code",
      "execution_count": 11,
      "metadata": {
        "colab": {
          "base_uri": "https://localhost:8080/",
          "height": 242
        },
        "id": "sjoJR1gRgb5A",
        "outputId": "32b67bfd-5bd3-43f3-e9a9-98dd11e1b4a3"
      },
      "outputs": [
        {
          "name": "stdout",
          "output_type": "stream",
          "text": [
            "Clustering  2\n",
            "Clustering  3\n",
            "Clustering  4\n",
            "Clustering  5\n",
            "Clustering  6\n",
            "Clustering  7\n"
          ]
        }
      ],
      "source": [
        "# run analysis to find which number of sources gives the best fit\n",
        "\n",
        "all_results = all_results.groupby('num_sources', group_keys=False).apply(extract_points)\n",
        "good_res = all_results.groupby('num_sources', group_keys=False).apply(filter_quantile)\n",
        "Forclusts= good_res.groupby('num_sources', group_keys=False).apply(lambda x: result_analysis(x, observations.size))"
      ]
    },
    {
      "cell_type": "markdown",
      "metadata": {},
      "source": []
    },
    {
      "cell_type": "code",
      "execution_count": 12,
      "metadata": {},
      "outputs": [],
      "source": [
        "def plot_results_stability_plot(numsources,avgsilsall,minsillsall,recs_all):\n",
        "    fig, ax1 = plt.subplots()\n",
        "    color = 'tab:blue'\n",
        "    ax1.set_xlabel('Number of Sources')\n",
        "    ax1.set_ylabel('Reconstruction Error [%]', color=color)  # we already handled the x-label with ax1\n",
        "    ax1.plot(numsources, recs_all, color=color,marker = 'o')\n",
        "    ax1.tick_params(axis='y', labelcolor=color)\n",
        "    ax2 = ax1.twinx()  # instantiate a second axes that shares the same x-axis\n",
        "    color = 'tab:red'\n",
        "    ax2.set_ylabel('Silhouette Score', color=color)\n",
        "    ax2.plot(numsources, avgsilsall, color=color,label='Avg_sil',marker = 'o')\n",
        "    ax2.tick_params(axis='y', labelcolor=color)\n",
        "    ax2.plot(numsources, minsillsall, color='pink', label='Min_sill', marker='o')\n",
        "    ax2.legend(loc='upper right')\n",
        "    fig.tight_layout()  # otherwise the right y-label is slightly clipped\n",
        "    plt.savefig(OUTPUTDIR+\"Selection_plot.png\")\n",
        "    plt.show()"
      ]
    },
    {
      "cell_type": "code",
      "execution_count": 13,
      "metadata": {},
      "outputs": [
        {
          "data": {
            "text/html": [
              "<div>\n",
              "<style scoped>\n",
              "    .dataframe tbody tr th:only-of-type {\n",
              "        vertical-align: middle;\n",
              "    }\n",
              "\n",
              "    .dataframe tbody tr th {\n",
              "        vertical-align: top;\n",
              "    }\n",
              "\n",
              "    .dataframe thead th {\n",
              "        text-align: right;\n",
              "    }\n",
              "</style>\n",
              "<table border=\"1\" class=\"dataframe\">\n",
              "  <thead>\n",
              "    <tr style=\"text-align: right;\">\n",
              "      <th></th>\n",
              "      <th>num_source</th>\n",
              "      <th>aic_score</th>\n",
              "      <th>avg_sillhouette_score</th>\n",
              "      <th>min_sillhouette_score</th>\n",
              "      <th>reconstruction_loss</th>\n",
              "      <th>centers</th>\n",
              "    </tr>\n",
              "  </thead>\n",
              "  <tbody>\n",
              "    <tr>\n",
              "      <th>0</th>\n",
              "      <td>1</td>\n",
              "      <td>-1.323368e+04</td>\n",
              "      <td>1.000000</td>\n",
              "      <td>1.000000</td>\n",
              "      <td>9.663509</td>\n",
              "      <td>[1.4999999999910378, 0.01696364050661236, 0.25...</td>\n",
              "    </tr>\n",
              "    <tr>\n",
              "      <th>0</th>\n",
              "      <td>2</td>\n",
              "      <td>-1.573198e+04</td>\n",
              "      <td>1.000000</td>\n",
              "      <td>1.000000</td>\n",
              "      <td>3.409504</td>\n",
              "      <td>[[1.2536621463448845, 0.7656119818886321], [-0...</td>\n",
              "    </tr>\n",
              "    <tr>\n",
              "      <th>0</th>\n",
              "      <td>3</td>\n",
              "      <td>-1.802937e+04</td>\n",
              "      <td>1.000000</td>\n",
              "      <td>1.000000</td>\n",
              "      <td>1.307986</td>\n",
              "      <td>[[0.9233488924396693, 0.4616706819968697, 0.51...</td>\n",
              "    </tr>\n",
              "    <tr>\n",
              "      <th>0</th>\n",
              "      <td>4</td>\n",
              "      <td>-2.839151e+04</td>\n",
              "      <td>1.000000</td>\n",
              "      <td>1.000000</td>\n",
              "      <td>0.017424</td>\n",
              "      <td>[[0.5046768621353795, 0.4114857910392516, 0.70...</td>\n",
              "    </tr>\n",
              "    <tr>\n",
              "      <th>0</th>\n",
              "      <td>5</td>\n",
              "      <td>-3.229694e+04</td>\n",
              "      <td>0.801949</td>\n",
              "      <td>0.106190</td>\n",
              "      <td>0.003420</td>\n",
              "      <td>[[0.12473556885091912, 0.6999190290707978, 0.3...</td>\n",
              "    </tr>\n",
              "    <tr>\n",
              "      <th>0</th>\n",
              "      <td>6</td>\n",
              "      <td>inf</td>\n",
              "      <td>0.452912</td>\n",
              "      <td>-0.311254</td>\n",
              "      <td>0.004206</td>\n",
              "      <td>[[0.158936921129094, 0.396836192837318, 0.6403...</td>\n",
              "    </tr>\n",
              "    <tr>\n",
              "      <th>0</th>\n",
              "      <td>7</td>\n",
              "      <td>inf</td>\n",
              "      <td>0.435720</td>\n",
              "      <td>-0.066653</td>\n",
              "      <td>0.005215</td>\n",
              "      <td>[[0.5993869645099362, 0.4550893382269338, 0.13...</td>\n",
              "    </tr>\n",
              "  </tbody>\n",
              "</table>\n",
              "</div>"
            ],
            "text/plain": [
              "   num_source     aic_score  avg_sillhouette_score  min_sillhouette_score  \\\n",
              "0           1 -1.323368e+04               1.000000               1.000000   \n",
              "0           2 -1.573198e+04               1.000000               1.000000   \n",
              "0           3 -1.802937e+04               1.000000               1.000000   \n",
              "0           4 -2.839151e+04               1.000000               1.000000   \n",
              "0           5 -3.229694e+04               0.801949               0.106190   \n",
              "0           6           inf               0.452912              -0.311254   \n",
              "0           7           inf               0.435720              -0.066653   \n",
              "\n",
              "   reconstruction_loss                                            centers  \n",
              "0             9.663509  [1.4999999999910378, 0.01696364050661236, 0.25...  \n",
              "0             3.409504  [[1.2536621463448845, 0.7656119818886321], [-0...  \n",
              "0             1.307986  [[0.9233488924396693, 0.4616706819968697, 0.51...  \n",
              "0             0.017424  [[0.5046768621353795, 0.4114857910392516, 0.70...  \n",
              "0             0.003420  [[0.12473556885091912, 0.6999190290707978, 0.3...  \n",
              "0             0.004206  [[0.158936921129094, 0.396836192837318, 0.6403...  \n",
              "0             0.005215  [[0.5993869645099362, 0.4550893382269338, 0.13...  "
            ]
          },
          "execution_count": 13,
          "metadata": {},
          "output_type": "execute_result"
        }
      ],
      "source": [
        "# Forclusts=good_res.groupby('num_sources', group_keys=False).apply(lambda x: result_analysis(x, observations.size))\n",
        "Forclusts"
      ]
    },
    {
      "cell_type": "code",
      "execution_count": 14,
      "metadata": {},
      "outputs": [
        {
          "data": {
            "image/png": "[encoded data removed]",
            "text/plain": [
              "<Figure size 640x480 with 2 Axes>"
            ]
          },
          "metadata": {},
          "output_type": "display_data"
        }
      ],
      "source": [
        "numsources = Forclusts['num_source'].values\n",
        "avgsilsall    = Forclusts['avg_sillhouette_score'].values\n",
        "minsillsall   = Forclusts['min_sillhouette_score'].values\n",
        "recs_all   = Forclusts['reconstruction_loss'].values\n",
        "plot_results_stability_plot(numsources,avgsilsall,minsillsall,recs_all)"
      ]
    },
    {
      "cell_type": "code",
      "execution_count": 15,
      "metadata": {},
      "outputs": [
        {
          "data": {
            "text/plain": [
              "array([[ 0.12473557,  0.69991903,  0.38559303,  0.38979156,  0.50006274],\n",
              "       [-0.12817872,  0.30006231, -0.10364522, -0.24311644,  0.09998255],\n",
              "       [ 0.24967361,  0.30001035,  0.215059  ,  0.43861195, -0.09998018]])"
            ]
          },
          "execution_count": 15,
          "metadata": {},
          "output_type": "execute_result"
        }
      ],
      "source": [
        "# good_res.groupby('num_sources', group_keys=False).apply(lambda x: result_analysis(x, observations.size))['centers'].iloc[1]\n",
        "\n",
        "Forclusts['centers'].iloc[4]"
      ]
    },
    {
      "cell_type": "code",
      "execution_count": 16,
      "metadata": {
        "colab": {
          "base_uri": "https://localhost:8080/"
        },
        "id": "X2UoxPrhIO0D",
        "outputId": "62956299-0baa-47f7-811a-9fa76565a2b7"
      },
      "outputs": [
        {
          "data": {
            "text/plain": [
              "array([[ 0.4 ,  0.3 ,  0.2 ,  0.5 ,  0.7 ],\n",
              "       [-0.25, -0.08, -0.15,  0.1 ,  0.3 ],\n",
              "       [ 0.45,  0.2 ,  0.25, -0.1 ,  0.3 ]])"
            ]
          },
          "execution_count": 16,
          "metadata": {},
          "output_type": "execute_result"
        }
      ],
      "source": [
        "ground_truth=np.vstack([As,Xs.T])\n",
        "ground_truth"
      ]
    },
    {
      "cell_type": "code",
      "execution_count": 17,
      "metadata": {},
      "outputs": [
        {
          "data": {
            "text/plain": [
              "array([[ 0.7 ,  0.39,  0.12,  0.39,  0.5 ],\n",
              "       [ 0.3 , -0.24, -0.13, -0.1 ,  0.1 ],\n",
              "       [ 0.3 ,  0.44,  0.25,  0.22, -0.1 ]])"
            ]
          },
          "execution_count": 17,
          "metadata": {},
          "output_type": "execute_result"
        }
      ],
      "source": [
        "Forclusts['centers'].iloc[4].round(2)[:,[1,3,0,2,4]]"
      ]
    },
    {
      "cell_type": "markdown",
      "metadata": {
        "id": "33FA_RTWuC34"
      },
      "source": [
        "# jax graph analysis"
      ]
    },
    {
      "cell_type": "code",
      "execution_count": 18,
      "metadata": {
        "colab": {
          "base_uri": "https://localhost:8080/",
          "height": 1000
        },
        "id": "-v4945FCwO-J",
        "outputId": "0757949d-afea-42c0-c3a1-165927e68e84"
      },
      "outputs": [],
      "source": [
        "# # # import tensorflow as tf\n",
        "# # # from jax.experimental import jax2tf\n",
        "\n",
        "# # # f_tf = jax2tf.convert(green_matrix)\n",
        "# # # ff_tf = tf.function(f_tf)\n",
        "\n",
        "# # # logdir = 'tensorboard-test2/2'\n",
        "# # # writer = tf.summary.create_file_writer(logdir)\n",
        "# # # tf.summary.trace_on(graph=True, profiler=True)\n",
        "# # # ff_tf(As, Xs, Ts, Xd, t, u_scaler, D)\n",
        "# # # with writer.as_default():\n",
        "# # #   tf.summary.trace_export(\n",
        "# # #       name=\"my_func_trace\",\n",
        "# # #       step=0,\n",
        "# # #       profiler_outdir=logdir)\n",
        "\n",
        "# resid = jax.jit(make_flat_resids_fn(model_fn, observations, num_sources))\n",
        "# flat_init, _ = flatten_inputs(*gen_init(num_sources))\n",
        "# z=jax.xla_computation(resid)(flat_init)\n",
        "# graphviz.Source(z.as_hlo_dot_graph())\n"
      ]
    },
    {
      "cell_type": "code",
      "execution_count": null,
      "metadata": {},
      "outputs": [],
      "source": []
    }
  ],
  "metadata": {
    "colab": {
      "authorship_tag": "ABX9TyPC9nWDImGL6+nVkb9Bo85F",
      "gpuType": "T4",
      "include_colab_link": true,
      "provenance": []
    },
    "kernelspec": {
      "display_name": "Python 3",
      "name": "python3"
    },
    "language_info": {
      "codemirror_mode": {
        "name": "ipython",
        "version": 3
      },
      "file_extension": ".py",
      "mimetype": "text/x-python",
      "name": "python",
      "nbconvert_exporter": "python",
      "pygments_lexer": "ipython3",
      "version": "3.10.12"
    }
  },
  "nbformat": 4,
  "nbformat_minor": 0
}
