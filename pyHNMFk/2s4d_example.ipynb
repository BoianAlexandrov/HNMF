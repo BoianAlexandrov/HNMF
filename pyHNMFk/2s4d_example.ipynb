{
  "cells": [
    {
      "cell_type": "markdown",
      "metadata": {
        "colab_type": "text",
        "id": "view-in-github"
      },
      "source": [
        "<a href=\"https://colab.research.google.com/github/Vesalon/xla-nmf/blob/main/notebooks/green_minimization_fides.ipynb\" target=\"_parent\"><img src=\"https://colab.research.google.com/assets/colab-badge.svg\" alt=\"Open In Colab\"/></a>"
      ]
    },
    {
      "cell_type": "code",
      "execution_count": 15,
      "metadata": {
        "colab": {
          "base_uri": "https://localhost:8080/"
        },
        "id": "0Jh9wPimh4OS",
        "outputId": "ee69e013-a515-4594-9cce-d416f7816eb1"
      },
      "outputs": [],
      "source": [
        "#!pip install fides"
      ]
    },
    {
      "cell_type": "code",
      "execution_count": 16,
      "metadata": {
        "id": "2v0MLj8T5txU"
      },
      "outputs": [],
      "source": [
        "import logging\n",
        "import os\n",
        "\n",
        "from matplotlib import pyplot as plt\n",
        "import numpy as np\n",
        "\n",
        "from src.hnmf_optimizer import HNMFOptimizer\n",
        "from src.clusts import result_analysis\n",
        "from green_model import reconstruct_general, gen_init_params,  gen_bounds, clustering_preprocess\n"
      ]
    },
    {
      "cell_type": "markdown",
      "metadata": {},
      "source": [
        "# set true variables"
      ]
    },
    {
      "cell_type": "code",
      "execution_count": 17,
      "metadata": {
        "id": "ZNE81o8ltkGg"
      },
      "outputs": [],
      "source": [
        "#~~~~~~~~~~~~~~~~~~~~~~~~~~~~~~~~~~~~~~~~~~~~~~~~~~~~~~~~~~~#\n",
        "#       set true variables for generated observations       #\n",
        "#~~~~~~~~~~~~~~~~~~~~~~~~~~~~~~~~~~~~~~~~~~~~~~~~~~~~~~~~~~~#\n",
        "\n",
        "### parameters ###\n",
        "\n",
        "# The amplitudes of the original sources\n",
        "\n",
        "# 2 sources \n",
        "As = np.array([0.5, 0.7])\n",
        "# # positions of the source\n",
        "Xs = np.array([\n",
        "    [-0.1, -0.2],\n",
        "    [-0.9, -0.8]\n",
        "])\n",
        "\n",
        "\n",
        "\n",
        "# Advection velocity\n",
        "u_scaler = 0.05\n",
        "# U = tf_c(np.array([0.05, 0]))\n",
        "# Dispersivity\n",
        "D = np.array([0.005, 0.00125])\n",
        "\n",
        "\n",
        "### fixed known values ###\n",
        "\n",
        "# the initial time the sources begin the release\n",
        "Ts = -10.\n",
        "\n",
        "# positions of the detectors\n",
        "Xd = np.array([\n",
        "    [0, 0],\n",
        "    [-0.5, -0.5],\n",
        "    [0.5, 0.5],\n",
        "    [0.5, -0.5]\n",
        "])\n",
        "\n",
        "\n",
        "# time values of data\n",
        "t = np.linspace(0, 20, 80)\n",
        "\n",
        "# noise to add to \n",
        "noise_level = 1e-4\n"
      ]
    },
    {
      "cell_type": "markdown",
      "metadata": {
        "id": "78TuI3sQuJiF"
      },
      "source": [
        "# NMF run"
      ]
    },
    {
      "cell_type": "code",
      "execution_count": 18,
      "metadata": {
        "colab": {
          "base_uri": "https://localhost:8080/"
        },
        "id": "104CUyVIsXb_",
        "outputId": "1a3f7524-de0e-44a1-c09b-dfb2b9e3ca8e"
      },
      "outputs": [],
      "source": [
        "# generate observations from target variables with small noise\n",
        "\n",
        "noise_level = 1e-4\n",
        "observations = reconstruct_general(As, Xs, Ts, Xd, t, np.array([u_scaler]), D)\n",
        "noise = noise_level/2 - noise_level*np.random.rand(*observations.shape)\n",
        "observations += noise\n"
      ]
    },
    {
      "cell_type": "code",
      "execution_count": 19,
      "metadata": {},
      "outputs": [
        {
          "name": "stdout",
          "output_type": "stream",
          "text": [
            "SIMULATIONS FOR 1 SOURCES TOOK 15.248880386352539 SECONDS\n",
            "SIMULATIONS FOR 2 SOURCES TOOK 30.418222427368164 SECONDS\n",
            "SIMULATIONS FOR 3 SOURCES TOOK 50.324748516082764 SECONDS\n",
            "SIMULATIONS FOR 4 SOURCES TOOK 65.65213823318481 SECONDS\n",
            "SIMULATIONS FOR 5 SOURCES TOOK 78.41714453697205 SECONDS\n",
            "SIMULATIONS FOR 6 SOURCES TOOK 81.95866537094116 SECONDS\n",
            "SIMULATIONS FOR 7 SOURCES TOOK 84.27055931091309 SECONDS\n",
            "Clustering  2\n",
            "Clustering  3\n",
            "Clustering  4\n",
            "Clustering  5\n",
            "Clustering  6\n",
            "Clustering  7\n"
          ]
        }
      ],
      "source": [
        "green_opt = HNMFOptimizer(\n",
        "    model_fn = reconstruct_general,\n",
        "    param_generator = gen_init_params,\n",
        "    bound_generator = gen_bounds,\n",
        "    input_args = ('t',),\n",
        "    param_args = ('A_s', 'X_s', 'U', 'D'),\n",
        "    constants = {'T_s': Ts, 'X_d': Xd},\n",
        "    min_k = 1,\n",
        "    max_k = 7,\n",
        "    nsim = 100\n",
        ")\n",
        "\n",
        "res = green_opt(t, observations)\n",
        "Forclusts = clustering_preprocess(res)\n",
        "\n",
        "Forclusts = Forclusts.groupby('num_sources', group_keys=False).apply(lambda group: result_analysis(\n",
        "    group['points'].sum(),\n",
        "    group['normF'].mean(),\n",
        "    observations.size,\n",
        "    group['num_sources'].iloc[0]\n",
        "))"
      ]
    },
    {
      "cell_type": "code",
      "execution_count": 20,
      "metadata": {},
      "outputs": [
        {
          "data": {
            "text/html": [
              "<div>\n",
              "<style scoped>\n",
              "    .dataframe tbody tr th:only-of-type {\n",
              "        vertical-align: middle;\n",
              "    }\n",
              "\n",
              "    .dataframe tbody tr th {\n",
              "        vertical-align: top;\n",
              "    }\n",
              "\n",
              "    .dataframe thead th {\n",
              "        text-align: right;\n",
              "    }\n",
              "</style>\n",
              "<table border=\"1\" class=\"dataframe\">\n",
              "  <thead>\n",
              "    <tr style=\"text-align: right;\">\n",
              "      <th></th>\n",
              "      <th>num_source</th>\n",
              "      <th>aic_score</th>\n",
              "      <th>avg_sillhouette_score</th>\n",
              "      <th>min_sillhouette_score</th>\n",
              "      <th>reconstruction_loss</th>\n",
              "      <th>centers</th>\n",
              "    </tr>\n",
              "  </thead>\n",
              "  <tbody>\n",
              "    <tr>\n",
              "      <th>0</th>\n",
              "      <td>1</td>\n",
              "      <td>-1003.231721</td>\n",
              "      <td>1.000000</td>\n",
              "      <td>1.000000</td>\n",
              "      <td>13.831822</td>\n",
              "      <td>[0.5135318102517922, -0.3519213119433905, -0.4...</td>\n",
              "    </tr>\n",
              "    <tr>\n",
              "      <th>0</th>\n",
              "      <td>2</td>\n",
              "      <td>-3403.543057</td>\n",
              "      <td>1.000000</td>\n",
              "      <td>1.000000</td>\n",
              "      <td>0.007595</td>\n",
              "      <td>[[0.49969419980858865, 0.7002283697103674], [-...</td>\n",
              "    </tr>\n",
              "    <tr>\n",
              "      <th>0</th>\n",
              "      <td>3</td>\n",
              "      <td>inf</td>\n",
              "      <td>0.450488</td>\n",
              "      <td>-0.073062</td>\n",
              "      <td>0.007805</td>\n",
              "      <td>[[0.43828235147534644, 0.6290609926331477, 0.3...</td>\n",
              "    </tr>\n",
              "    <tr>\n",
              "      <th>0</th>\n",
              "      <td>4</td>\n",
              "      <td>inf</td>\n",
              "      <td>0.139116</td>\n",
              "      <td>-0.728891</td>\n",
              "      <td>0.008777</td>\n",
              "      <td>[[0.4103665731535977, 0.29499084219963206, 0.4...</td>\n",
              "    </tr>\n",
              "    <tr>\n",
              "      <th>0</th>\n",
              "      <td>5</td>\n",
              "      <td>inf</td>\n",
              "      <td>0.131475</td>\n",
              "      <td>-0.774680</td>\n",
              "      <td>0.009274</td>\n",
              "      <td>[[0.33964656228724827, 0.32462907888728504, 0....</td>\n",
              "    </tr>\n",
              "    <tr>\n",
              "      <th>0</th>\n",
              "      <td>6</td>\n",
              "      <td>inf</td>\n",
              "      <td>0.001763</td>\n",
              "      <td>-0.816273</td>\n",
              "      <td>0.010289</td>\n",
              "      <td>[[0.3256967158866266, 0.27892143971098005, 0.4...</td>\n",
              "    </tr>\n",
              "    <tr>\n",
              "      <th>0</th>\n",
              "      <td>7</td>\n",
              "      <td>inf</td>\n",
              "      <td>-0.114325</td>\n",
              "      <td>-0.867687</td>\n",
              "      <td>0.011154</td>\n",
              "      <td>[[0.31221699095554256, 0.12649248679302405, 0....</td>\n",
              "    </tr>\n",
              "  </tbody>\n",
              "</table>\n",
              "</div>"
            ],
            "text/plain": [
              "   num_source    aic_score  avg_sillhouette_score  min_sillhouette_score  \\\n",
              "0           1 -1003.231721               1.000000               1.000000   \n",
              "0           2 -3403.543057               1.000000               1.000000   \n",
              "0           3          inf               0.450488              -0.073062   \n",
              "0           4          inf               0.139116              -0.728891   \n",
              "0           5          inf               0.131475              -0.774680   \n",
              "0           6          inf               0.001763              -0.816273   \n",
              "0           7          inf              -0.114325              -0.867687   \n",
              "\n",
              "   reconstruction_loss                                            centers  \n",
              "0            13.831822  [0.5135318102517922, -0.3519213119433905, -0.4...  \n",
              "0             0.007595  [[0.49969419980858865, 0.7002283697103674], [-...  \n",
              "0             0.007805  [[0.43828235147534644, 0.6290609926331477, 0.3...  \n",
              "0             0.008777  [[0.4103665731535977, 0.29499084219963206, 0.4...  \n",
              "0             0.009274  [[0.33964656228724827, 0.32462907888728504, 0....  \n",
              "0             0.010289  [[0.3256967158866266, 0.27892143971098005, 0.4...  \n",
              "0             0.011154  [[0.31221699095554256, 0.12649248679302405, 0....  "
            ]
          },
          "execution_count": 20,
          "metadata": {},
          "output_type": "execute_result"
        }
      ],
      "source": [
        "Forclusts"
      ]
    },
    {
      "cell_type": "code",
      "execution_count": 21,
      "metadata": {},
      "outputs": [],
      "source": [
        "def plot_results_stability_plot(numsources,avgsilsall,minsillsall,recs_all, output_dir):\n",
        "    fig, ax1 = plt.subplots()\n",
        "    color = 'tab:blue'\n",
        "    ax1.set_xlabel('Number of Sources')\n",
        "    ax1.set_ylabel('Reconstruction Error [%]', color=color)  # we already handled the x-label with ax1\n",
        "    ax1.plot(numsources, recs_all, color=color,marker = 'o')\n",
        "    ax1.tick_params(axis='y', labelcolor=color)\n",
        "    ax2 = ax1.twinx()  # instantiate a second axes that shares the same x-axis\n",
        "    color = 'tab:red'\n",
        "    ax2.set_ylabel('Silhouette Score', color=color)\n",
        "    ax2.plot(numsources, avgsilsall, color=color,label='Avg_sil',marker = 'o')\n",
        "    ax2.tick_params(axis='y', labelcolor=color)\n",
        "    ax2.plot(numsources, minsillsall, color='pink', label='Min_sill', marker='o')\n",
        "    ax2.legend(loc='upper right')\n",
        "    fig.tight_layout()  # otherwise the right y-label is slightly clipped\n",
        "    plt.savefig(output_dir+\"Selection_plot.png\")\n",
        "    plt.show()"
      ]
    },
    {
      "cell_type": "code",
      "execution_count": 22,
      "metadata": {},
      "outputs": [
        {
          "data": {
            "image/png": "[encoded data removed]",
            "text/plain": [
              "<Figure size 640x480 with 2 Axes>"
            ]
          },
          "metadata": {},
          "output_type": "display_data"
        }
      ],
      "source": [
        "OUTPUTDIR = \"Results/\"\n",
        "os.makedirs(OUTPUTDIR,exist_ok=True)\n",
        "\n",
        "numsources = Forclusts['num_source'].values\n",
        "avgsilsall    = Forclusts['avg_sillhouette_score'].values\n",
        "minsillsall   = Forclusts['min_sillhouette_score'].values\n",
        "recs_all   = Forclusts['reconstruction_loss'].values\n",
        "plot_results_stability_plot(numsources,avgsilsall,minsillsall,recs_all,OUTPUTDIR)"
      ]
    },
    {
      "cell_type": "code",
      "execution_count": 23,
      "metadata": {},
      "outputs": [
        {
          "data": {
            "text/plain": [
              "array([[ 0.4996942 ,  0.70022837],\n",
              "       [-0.10014528, -0.89999728],\n",
              "       [-0.20001009, -0.8000794 ],\n",
              "       [ 0.05000082,  0.05000082],\n",
              "       [ 0.00500007,  0.00500007],\n",
              "       [ 0.0012506 ,  0.0012506 ]])"
            ]
          },
          "execution_count": 23,
          "metadata": {},
          "output_type": "execute_result"
        }
      ],
      "source": [
        "Forclusts['centers'].iloc[1]"
      ]
    },
    {
      "cell_type": "code",
      "execution_count": 24,
      "metadata": {
        "colab": {
          "base_uri": "https://localhost:8080/"
        },
        "id": "X2UoxPrhIO0D",
        "outputId": "62956299-0baa-47f7-811a-9fa76565a2b7"
      },
      "outputs": [
        {
          "data": {
            "text/plain": [
              "array([[ 0.5,  0.7],\n",
              "       [-0.1, -0.9],\n",
              "       [-0.2, -0.8]])"
            ]
          },
          "execution_count": 24,
          "metadata": {},
          "output_type": "execute_result"
        }
      ],
      "source": [
        "ground_truth=np.vstack([As,Xs.T])\n",
        "ground_truth"
      ]
    },
    {
      "cell_type": "code",
      "execution_count": null,
      "metadata": {},
      "outputs": [],
      "source": []
    }
  ],
  "metadata": {
    "colab": {
      "authorship_tag": "ABX9TyPC9nWDImGL6+nVkb9Bo85F",
      "gpuType": "T4",
      "include_colab_link": true,
      "provenance": []
    },
    "kernelspec": {
      "display_name": "Python 3",
      "name": "python3"
    },
    "language_info": {
      "codemirror_mode": {
        "name": "ipython",
        "version": 3
      },
      "file_extension": ".py",
      "mimetype": "text/x-python",
      "name": "python",
      "nbconvert_exporter": "python",
      "pygments_lexer": "ipython3",
      "version": "3.10.13"
    }
  },
  "nbformat": 4,
  "nbformat_minor": 0
}
