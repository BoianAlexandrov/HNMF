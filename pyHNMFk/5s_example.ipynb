{
  "cells": [
    {
      "cell_type": "code",
      "execution_count": 1,
      "metadata": {
        "id": "2v0MLj8T5txU"
      },
      "outputs": [],
      "source": [
        "import logging\n",
        "import os\n",
        "\n",
        "from matplotlib import pyplot as plt\n",
        "import numpy as np\n",
        "\n",
        "from src.hnmf_optimizer import HNMFOptimizer\n",
        "from src.clusts import result_analysis\n",
        "from green_model import reconstruct_general, gen_init_params,  gen_bounds, clustering_preprocess\n"
      ]
    },
    {
      "cell_type": "markdown",
      "metadata": {},
      "source": [
        "# set true variables"
      ]
    },
    {
      "cell_type": "code",
      "execution_count": 2,
      "metadata": {
        "id": "ZNE81o8ltkGg"
      },
      "outputs": [],
      "source": [
        "#~~~~~~~~~~~~~~~~~~~~~~~~~~~~~~~~~~~~~~~~~~~~~~~~~~~~~~~~~~~#\n",
        "#       set true variables for generated observations       #\n",
        "#~~~~~~~~~~~~~~~~~~~~~~~~~~~~~~~~~~~~~~~~~~~~~~~~~~~~~~~~~~~#\n",
        "\n",
        "### parameters ###\n",
        "\n",
        "# # 5 sources\n",
        "As = np.array([0.4, 0.3,0.2,0.5,0.7])\n",
        "# positions of the source\n",
        "Xs = np.array([\n",
        "  [-0.25,0.45],\n",
        "  [-0.08,0.2],\n",
        "  [-0.15,0.25],\n",
        "  [0.1,-0.1],\n",
        "  [0.3,0.3]\n",
        "])\n",
        "\n",
        "# Advection velocity\n",
        "u_scaler = 0.05\n",
        "# U = tf_c(np.array([0.05, 0]))\n",
        "# Dispersivity\n",
        "D = np.array([0.005, 0.00125])\n",
        "\n",
        "\n",
        "### fixed known values ###\n",
        "\n",
        "# the initial time the sources begin the release\n",
        "Ts = -10.\n",
        "\n",
        "Xd = np.array([\n",
        "[ -0.2,0.6],\n",
        "[0,0.6],\n",
        "[0.2,0.6],\n",
        "[0.4,0.6],\n",
        "[0.6,0.6],\n",
        "[-0.2,0.4],\n",
        "[0,0.4],\n",
        "[0.2,0.4],\n",
        "[0.4,0.4],\n",
        "[0.6,0.4],\n",
        "[-0.2,0.2],\n",
        "[0,0.2],\n",
        "[0.2,0.2],\n",
        "[0.4,0.2],\n",
        "[0.6,0.2],\n",
        "[-0.2,0.0],\n",
        "[0,0.0],\n",
        "[0.2,0.0],\n",
        "[0.4,0.0],\n",
        "[0.6,0.0],\n",
        "[-0.2,-0.2],\n",
        "[0,-0.2],\n",
        "[0.2,-0.2],\n",
        "[0.4,-0.2],\n",
        "[0.6,-0.2],\n",
        "[-0.2,-0.4],\n",
        "[0,-0.4],\n",
        "[0.2,-0.4],\n",
        "[0.4,-0.4],\n",
        "[0.6,-0.4]\n",
        "])\n",
        "\n",
        "# time values of data\n",
        "t = np.linspace(0, 20, 80)\n",
        "\n",
        "# noise to add to \n",
        "noise_level = 1e-4\n"
      ]
    },
    {
      "cell_type": "markdown",
      "metadata": {
        "id": "78TuI3sQuJiF"
      },
      "source": [
        "# NMF run"
      ]
    },
    {
      "cell_type": "code",
      "execution_count": 3,
      "metadata": {
        "colab": {
          "base_uri": "https://localhost:8080/"
        },
        "id": "104CUyVIsXb_",
        "outputId": "1a3f7524-de0e-44a1-c09b-dfb2b9e3ca8e"
      },
      "outputs": [
        {
          "name": "stderr",
          "output_type": "stream",
          "text": [
            "WARNING: All log messages before absl::InitializeLog() is called are written to STDERR\n",
            "I0000 00:00:1697816960.675262   22561 tfrt_cpu_pjrt_client.cc:349] TfrtCpuClient created.\n",
            "No GPU/TPU found, falling back to CPU. (Set TF_CPP_MIN_LOG_LEVEL=0 and rerun for more info.)\n"
          ]
        }
      ],
      "source": [
        "# generate observations from target variables with small noise\n",
        "\n",
        "noise_level = 1e-4\n",
        "observations = reconstruct_general(As, Xs, Ts, Xd, t, np.array([u_scaler]), D)\n",
        "noise = noise_level/2 - noise_level*np.random.rand(*observations.shape)\n",
        "observations += noise"
      ]
    },
    {
      "cell_type": "code",
      "execution_count": 4,
      "metadata": {},
      "outputs": [
        {
          "name": "stdout",
          "output_type": "stream",
          "text": [
            "SIMULATIONS FOR 1 SOURCES TOOK 16.822446823120117 SECONDS\n",
            "SIMULATIONS FOR 2 SOURCES TOOK 11.618147373199463 SECONDS\n",
            "SIMULATIONS FOR 3 SOURCES TOOK 17.31515383720398 SECONDS\n",
            "SIMULATIONS FOR 4 SOURCES TOOK 21.581907510757446 SECONDS\n",
            "SIMULATIONS FOR 5 SOURCES TOOK 177.81746292114258 SECONDS\n",
            "SIMULATIONS FOR 6 SOURCES TOOK 154.56659412384033 SECONDS\n",
            "SIMULATIONS FOR 7 SOURCES TOOK 97.78693699836731 SECONDS\n",
            "Clustering  2\n",
            "Clustering  3\n",
            "Clustering  4\n",
            "Clustering  5\n",
            "Clustering  6\n",
            "Clustering  7\n"
          ]
        }
      ],
      "source": [
        "green_opt = HNMFOptimizer(\n",
        "    model_fn = reconstruct_general,\n",
        "    param_generator = gen_init_params,\n",
        "    bound_generator = gen_bounds,\n",
        "    input_args = ('t',),\n",
        "    param_args = ('A_s', 'X_s', 'U', 'D'),\n",
        "    constants = {'T_s': Ts, 'X_d': Xd},\n",
        "    min_k = 1,\n",
        "    max_k = 7,\n",
        "    nsim = 100\n",
        ")\n",
        "\n",
        "res = green_opt(\n",
        "    t,\n",
        "    observations,\n",
        "    opt_options = {\n",
        "        'maxiter': 1500,\n",
        "        'xtol': 1e-6,\n",
        "        'fatol': 1e-10,\n",
        "    }\n",
        ")\n",
        "Forclusts = clustering_preprocess(res)\n",
        "\n",
        "Forclusts = Forclusts.groupby('num_sources', group_keys=False).apply(lambda group: result_analysis(\n",
        "    group['points'].sum(),\n",
        "    group['normF'].mean(),\n",
        "    observations.size,\n",
        "    group['num_sources'].iloc[0]\n",
        "))"
      ]
    },
    {
      "cell_type": "code",
      "execution_count": 5,
      "metadata": {},
      "outputs": [
        {
          "data": {
            "text/html": [
              "<div>\n",
              "<style scoped>\n",
              "    .dataframe tbody tr th:only-of-type {\n",
              "        vertical-align: middle;\n",
              "    }\n",
              "\n",
              "    .dataframe tbody tr th {\n",
              "        vertical-align: top;\n",
              "    }\n",
              "\n",
              "    .dataframe thead th {\n",
              "        text-align: right;\n",
              "    }\n",
              "</style>\n",
              "<table border=\"1\" class=\"dataframe\">\n",
              "  <thead>\n",
              "    <tr style=\"text-align: right;\">\n",
              "      <th></th>\n",
              "      <th>num_source</th>\n",
              "      <th>aic_score</th>\n",
              "      <th>avg_sillhouette_score</th>\n",
              "      <th>min_sillhouette_score</th>\n",
              "      <th>reconstruction_loss</th>\n",
              "      <th>centers</th>\n",
              "    </tr>\n",
              "  </thead>\n",
              "  <tbody>\n",
              "    <tr>\n",
              "      <th>0</th>\n",
              "      <td>1</td>\n",
              "      <td>-1.323365e+04</td>\n",
              "      <td>1.000000</td>\n",
              "      <td>1.000000</td>\n",
              "      <td>9.663626</td>\n",
              "      <td>[1.4999960107177914, 0.01696485920865705, 0.25...</td>\n",
              "    </tr>\n",
              "    <tr>\n",
              "      <th>0</th>\n",
              "      <td>2</td>\n",
              "      <td>-1.573193e+04</td>\n",
              "      <td>1.000000</td>\n",
              "      <td>1.000000</td>\n",
              "      <td>3.409570</td>\n",
              "      <td>[[0.7656063397091941, 1.253653290696718], [0.1...</td>\n",
              "    </tr>\n",
              "    <tr>\n",
              "      <th>0</th>\n",
              "      <td>3</td>\n",
              "      <td>-1.802936e+04</td>\n",
              "      <td>1.000000</td>\n",
              "      <td>1.000000</td>\n",
              "      <td>1.307991</td>\n",
              "      <td>[[0.4616800922253318, 0.518488085842864, 0.923...</td>\n",
              "    </tr>\n",
              "    <tr>\n",
              "      <th>0</th>\n",
              "      <td>4</td>\n",
              "      <td>-2.838683e+04</td>\n",
              "      <td>1.000000</td>\n",
              "      <td>1.000000</td>\n",
              "      <td>0.017458</td>\n",
              "      <td>[[0.7036133051289473, 0.4874446541113035, 0.41...</td>\n",
              "    </tr>\n",
              "    <tr>\n",
              "      <th>0</th>\n",
              "      <td>5</td>\n",
              "      <td>-3.283306e+04</td>\n",
              "      <td>0.996175</td>\n",
              "      <td>0.981370</td>\n",
              "      <td>0.002736</td>\n",
              "      <td>[[0.5000358524616103, 0.4000185011945063, 0.30...</td>\n",
              "    </tr>\n",
              "    <tr>\n",
              "      <th>0</th>\n",
              "      <td>6</td>\n",
              "      <td>-3.283124e+04</td>\n",
              "      <td>0.760734</td>\n",
              "      <td>-0.263038</td>\n",
              "      <td>0.002735</td>\n",
              "      <td>[[0.6884845998911153, 0.4000129049750455, 0.38...</td>\n",
              "    </tr>\n",
              "    <tr>\n",
              "      <th>0</th>\n",
              "      <td>7</td>\n",
              "      <td>inf</td>\n",
              "      <td>0.243348</td>\n",
              "      <td>-0.335408</td>\n",
              "      <td>0.002779</td>\n",
              "      <td>[[0.4221621003527528, 0.2925221000789683, 0.22...</td>\n",
              "    </tr>\n",
              "  </tbody>\n",
              "</table>\n",
              "</div>"
            ],
            "text/plain": [
              "   num_source     aic_score  avg_sillhouette_score  min_sillhouette_score  \\\n",
              "0           1 -1.323365e+04               1.000000               1.000000   \n",
              "0           2 -1.573193e+04               1.000000               1.000000   \n",
              "0           3 -1.802936e+04               1.000000               1.000000   \n",
              "0           4 -2.838683e+04               1.000000               1.000000   \n",
              "0           5 -3.283306e+04               0.996175               0.981370   \n",
              "0           6 -3.283124e+04               0.760734              -0.263038   \n",
              "0           7           inf               0.243348              -0.335408   \n",
              "\n",
              "   reconstruction_loss                                            centers  \n",
              "0             9.663626  [1.4999960107177914, 0.01696485920865705, 0.25...  \n",
              "0             3.409570  [[0.7656063397091941, 1.253653290696718], [0.1...  \n",
              "0             1.307991  [[0.4616800922253318, 0.518488085842864, 0.923...  \n",
              "0             0.017458  [[0.7036133051289473, 0.4874446541113035, 0.41...  \n",
              "0             0.002736  [[0.5000358524616103, 0.4000185011945063, 0.30...  \n",
              "0             0.002735  [[0.6884845998911153, 0.4000129049750455, 0.38...  \n",
              "0             0.002779  [[0.4221621003527528, 0.2925221000789683, 0.22...  "
            ]
          },
          "execution_count": 5,
          "metadata": {},
          "output_type": "execute_result"
        }
      ],
      "source": [
        "Forclusts"
      ]
    },
    {
      "cell_type": "code",
      "execution_count": 6,
      "metadata": {},
      "outputs": [],
      "source": [
        "def plot_results_stability_plot(numsources,avgsilsall,minsillsall,recs_all, output_dir):\n",
        "    fig, ax1 = plt.subplots()\n",
        "    color = 'tab:blue'\n",
        "    ax1.set_xlabel('Number of Sources')\n",
        "    ax1.set_ylabel('Reconstruction Error [%]', color=color)  # we already handled the x-label with ax1\n",
        "    ax1.plot(numsources, recs_all, color=color,marker = 'o')\n",
        "    ax1.tick_params(axis='y', labelcolor=color)\n",
        "    ax2 = ax1.twinx()  # instantiate a second axes that shares the same x-axis\n",
        "    color = 'tab:red'\n",
        "    ax2.set_ylabel('Silhouette Score', color=color)\n",
        "    ax2.plot(numsources, avgsilsall, color=color,label='Avg_sil',marker = 'o')\n",
        "    ax2.tick_params(axis='y', labelcolor=color)\n",
        "    ax2.plot(numsources, minsillsall, color='pink', label='Min_sill', marker='o')\n",
        "    ax2.legend(loc='upper right')\n",
        "    fig.tight_layout()  # otherwise the right y-label is slightly clipped\n",
        "    plt.savefig(output_dir+\"Selection_plot.png\")\n",
        "    plt.show()"
      ]
    },
    {
      "cell_type": "code",
      "execution_count": 7,
      "metadata": {},
      "outputs": [
        {
          "data": {
            "image/png": "[encoded data removed]",
            "text/plain": [
              "<Figure size 640x480 with 2 Axes>"
            ]
          },
          "metadata": {},
          "output_type": "display_data"
        }
      ],
      "source": [
        "OUTPUTDIR = \"Results/\"\n",
        "os.makedirs(OUTPUTDIR,exist_ok=True)\n",
        "\n",
        "numsources = Forclusts['num_source'].values\n",
        "avgsilsall    = Forclusts['avg_sillhouette_score'].values\n",
        "minsillsall   = Forclusts['min_sillhouette_score'].values\n",
        "recs_all   = Forclusts['reconstruction_loss'].values\n",
        "plot_results_stability_plot(numsources,avgsilsall,minsillsall,recs_all,OUTPUTDIR)"
      ]
    },
    {
      "cell_type": "code",
      "execution_count": 8,
      "metadata": {},
      "outputs": [
        {
          "data": {
            "text/plain": [
              "array([[ 0.50003585,  0.4000185 ,  0.30193502,  0.70000457,  0.19800061],\n",
              "       [ 0.09999472, -0.24999307, -0.08025534,  0.30000473, -0.15034171],\n",
              "       [-0.09998844,  0.44999285,  0.2002308 ,  0.29999509,  0.2501894 ],\n",
              "       [ 0.04999982,  0.04999982,  0.04999982,  0.04999982,  0.04999982],\n",
              "       [ 0.00499995,  0.00499995,  0.00499995,  0.00499995,  0.00499995],\n",
              "       [ 0.00125002,  0.00125002,  0.00125002,  0.00125002,  0.00125002]])"
            ]
          },
          "execution_count": 8,
          "metadata": {},
          "output_type": "execute_result"
        }
      ],
      "source": [
        "Forclusts['centers'].iloc[4]"
      ]
    },
    {
      "cell_type": "code",
      "execution_count": 9,
      "metadata": {
        "colab": {
          "base_uri": "https://localhost:8080/"
        },
        "id": "X2UoxPrhIO0D",
        "outputId": "62956299-0baa-47f7-811a-9fa76565a2b7"
      },
      "outputs": [
        {
          "data": {
            "text/plain": [
              "array([[ 0.4 ,  0.3 ,  0.2 ,  0.5 ,  0.7 ],\n",
              "       [-0.25, -0.08, -0.15,  0.1 ,  0.3 ],\n",
              "       [ 0.45,  0.2 ,  0.25, -0.1 ,  0.3 ]])"
            ]
          },
          "execution_count": 9,
          "metadata": {},
          "output_type": "execute_result"
        }
      ],
      "source": [
        "ground_truth=np.vstack([As,Xs.T])\n",
        "ground_truth"
      ]
    }
  ],
  "metadata": {
    "colab": {
      "authorship_tag": "ABX9TyPC9nWDImGL6+nVkb9Bo85F",
      "gpuType": "T4",
      "include_colab_link": true,
      "provenance": []
    },
    "kernelspec": {
      "display_name": "Python 3",
      "name": "python3"
    },
    "language_info": {
      "codemirror_mode": {
        "name": "ipython",
        "version": 3
      },
      "file_extension": ".py",
      "mimetype": "text/x-python",
      "name": "python",
      "nbconvert_exporter": "python",
      "pygments_lexer": "ipython3",
      "version": "3.10.13"
    }
  },
  "nbformat": 4,
  "nbformat_minor": 0
}
