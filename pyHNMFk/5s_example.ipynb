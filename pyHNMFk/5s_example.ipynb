{
  "cells": [
    {
      "cell_type": "markdown",
      "metadata": {
        "colab_type": "text",
        "id": "view-in-github"
      },
      "source": [
        "<a href=\"https://colab.research.google.com/github/Vesalon/xla-nmf/blob/main/notebooks/green_minimization_fides.ipynb\" target=\"_parent\"><img src=\"https://colab.research.google.com/assets/colab-badge.svg\" alt=\"Open In Colab\"/></a>"
      ]
    },
    {
      "cell_type": "code",
      "execution_count": 1,
      "metadata": {
        "colab": {
          "base_uri": "https://localhost:8080/"
        },
        "id": "0Jh9wPimh4OS",
        "outputId": "ee69e013-a515-4594-9cce-d416f7816eb1"
      },
      "outputs": [],
      "source": [
        "#!pip install fides"
      ]
    },
    {
      "cell_type": "code",
      "execution_count": 2,
      "metadata": {
        "id": "2v0MLj8T5txU"
      },
      "outputs": [],
      "source": [
        "import logging\n",
        "import os\n",
        "\n",
        "from matplotlib import pyplot as plt\n",
        "import numpy as np\n",
        "\n",
        "from src.hnmf_optimizer import HNMFOptimizer\n",
        "from src.clusts import result_analysis\n",
        "from green_model import reconstruct_general, gen_init_params,  gen_bounds, clustering_preprocess\n"
      ]
    },
    {
      "cell_type": "markdown",
      "metadata": {},
      "source": [
        "# set true variables"
      ]
    },
    {
      "cell_type": "code",
      "execution_count": 3,
      "metadata": {
        "id": "ZNE81o8ltkGg"
      },
      "outputs": [],
      "source": [
        "#~~~~~~~~~~~~~~~~~~~~~~~~~~~~~~~~~~~~~~~~~~~~~~~~~~~~~~~~~~~#\n",
        "#       set true variables for generated observations       #\n",
        "#~~~~~~~~~~~~~~~~~~~~~~~~~~~~~~~~~~~~~~~~~~~~~~~~~~~~~~~~~~~#\n",
        "\n",
        "### parameters ###\n",
        "\n",
        "# # 5 sources\n",
        "As = np.array([0.4, 0.3,0.2,0.5,0.7])\n",
        "# positions of the source\n",
        "Xs = np.array([\n",
        "  [-0.25,0.45],\n",
        "  [-0.08,0.2],\n",
        "  [-0.15,0.25],\n",
        "  [0.1,-0.1],\n",
        "  [0.3,0.3]\n",
        "])\n",
        "\n",
        "# Advection velocity\n",
        "u_scaler = 0.05\n",
        "# U = tf_c(np.array([0.05, 0]))\n",
        "# Dispersivity\n",
        "D = np.array([0.005, 0.00125])\n",
        "\n",
        "\n",
        "### fixed known values ###\n",
        "\n",
        "# the initial time the sources begin the release\n",
        "Ts = -10.\n",
        "\n",
        "Xd = np.array([\n",
        "[ -0.2,0.6],\n",
        "[0,0.6],\n",
        "[0.2,0.6],\n",
        "[0.4,0.6],\n",
        "[0.6,0.6],\n",
        "[-0.2,0.4],\n",
        "[0,0.4],\n",
        "[0.2,0.4],\n",
        "[0.4,0.4],\n",
        "[0.6,0.4],\n",
        "[-0.2,0.2],\n",
        "[0,0.2],\n",
        "[0.2,0.2],\n",
        "[0.4,0.2],\n",
        "[0.6,0.2],\n",
        "[-0.2,0.0],\n",
        "[0,0.0],\n",
        "[0.2,0.0],\n",
        "[0.4,0.0],\n",
        "[0.6,0.0],\n",
        "[-0.2,-0.2],\n",
        "[0,-0.2],\n",
        "[0.2,-0.2],\n",
        "[0.4,-0.2],\n",
        "[0.6,-0.2],\n",
        "[-0.2,-0.4],\n",
        "[0,-0.4],\n",
        "[0.2,-0.4],\n",
        "[0.4,-0.4],\n",
        "[0.6,-0.4]\n",
        "])\n",
        "\n",
        "# time values of data\n",
        "t = np.linspace(0, 20, 80)\n",
        "\n",
        "# noise to add to \n",
        "noise_level = 1e-4\n"
      ]
    },
    {
      "cell_type": "markdown",
      "metadata": {
        "id": "78TuI3sQuJiF"
      },
      "source": [
        "# NMF run"
      ]
    },
    {
      "cell_type": "code",
      "execution_count": 4,
      "metadata": {
        "colab": {
          "base_uri": "https://localhost:8080/"
        },
        "id": "104CUyVIsXb_",
        "outputId": "1a3f7524-de0e-44a1-c09b-dfb2b9e3ca8e"
      },
      "outputs": [
        {
          "name": "stderr",
          "output_type": "stream",
          "text": [
            "WARNING: All log messages before absl::InitializeLog() is called are written to STDERR\n",
            "I0000 00:00:1697684015.073698   12344 tfrt_cpu_pjrt_client.cc:349] TfrtCpuClient created.\n",
            "No GPU/TPU found, falling back to CPU. (Set TF_CPP_MIN_LOG_LEVEL=0 and rerun for more info.)\n"
          ]
        }
      ],
      "source": [
        "# generate observations from target variables with small noise\n",
        "\n",
        "noise_level = 1e-4\n",
        "observations = reconstruct_general(As, Xs, Ts, Xd, t, np.array([u_scaler]), D)\n",
        "noise = noise_level/2 - noise_level*np.random.rand(*observations.shape)\n",
        "observations += noise"
      ]
    },
    {
      "cell_type": "code",
      "execution_count": 5,
      "metadata": {},
      "outputs": [
        {
          "name": "stdout",
          "output_type": "stream",
          "text": [
            "SIMULATIONS FOR 1 SOURCES TOOK 26.338735818862915 SECONDS\n",
            "SIMULATIONS FOR 2 SOURCES TOOK 20.252082586288452 SECONDS\n",
            "SIMULATIONS FOR 3 SOURCES TOOK 25.814491510391235 SECONDS\n",
            "SIMULATIONS FOR 4 SOURCES TOOK 28.73387050628662 SECONDS\n",
            "SIMULATIONS FOR 5 SOURCES TOOK 309.5390245914459 SECONDS\n",
            "SIMULATIONS FOR 6 SOURCES TOOK 270.65149974823 SECONDS\n",
            "SIMULATIONS FOR 7 SOURCES TOOK 171.98338913917542 SECONDS\n",
            "Clustering  2\n",
            "Clustering  3\n",
            "Clustering  4\n",
            "Clustering  5\n",
            "Clustering  6\n",
            "Clustering  7\n"
          ]
        }
      ],
      "source": [
        "green_opt = HNMFOptimizer(\n",
        "    model_fn = reconstruct_general,\n",
        "    param_generator = gen_init_params,\n",
        "    bound_generator = gen_bounds,\n",
        "    input_args = ('t',),\n",
        "    param_args = ('A_s', 'X_s', 'U', 'D'),\n",
        "    constants = {'T_s': Ts, 'X_d': Xd},\n",
        "    min_k = 1,\n",
        "    max_k = 7,\n",
        "    nsim = 100\n",
        ")\n",
        "\n",
        "res = green_opt(\n",
        "    t,\n",
        "    observations,\n",
        "    opt_case='tr_optimizer',\n",
        "    fides_opt_options = {\n",
        "        'maxiter': 1500,\n",
        "        'xtol': 1e-6,\n",
        "        'fatol': 1e-10,\n",
        "        'stepback_strategy': 'truncate',\n",
        "    }\n",
        ")\n",
        "Forclusts = clustering_preprocess(res)\n",
        "\n",
        "Forclusts = Forclusts.groupby('num_sources', group_keys=False).apply(lambda group: result_analysis(\n",
        "    group['points'].sum(),\n",
        "    group['normF'].mean(),\n",
        "    observations.size,\n",
        "    group['num_sources'].iloc[0]\n",
        "))"
      ]
    },
    {
      "cell_type": "code",
      "execution_count": 6,
      "metadata": {},
      "outputs": [
        {
          "data": {
            "text/html": [
              "<div>\n",
              "<style scoped>\n",
              "    .dataframe tbody tr th:only-of-type {\n",
              "        vertical-align: middle;\n",
              "    }\n",
              "\n",
              "    .dataframe tbody tr th {\n",
              "        vertical-align: top;\n",
              "    }\n",
              "\n",
              "    .dataframe thead th {\n",
              "        text-align: right;\n",
              "    }\n",
              "</style>\n",
              "<table border=\"1\" class=\"dataframe\">\n",
              "  <thead>\n",
              "    <tr style=\"text-align: right;\">\n",
              "      <th></th>\n",
              "      <th>fval</th>\n",
              "      <th>sol</th>\n",
              "      <th>grad</th>\n",
              "      <th>hess</th>\n",
              "      <th>normF</th>\n",
              "      <th>num_sources</th>\n",
              "    </tr>\n",
              "  </thead>\n",
              "  <tbody>\n",
              "    <tr>\n",
              "      <th>0</th>\n",
              "      <td>12.581718833709052</td>\n",
              "      <td>[[1.499998285091702], [[0.016963805330193742, ...</td>\n",
              "      <td>[-17.82871099334946, 0.0007514891085027748, 0....</td>\n",
              "      <td>[[563.8443437819735, -1035.97958430725, -61.45...</td>\n",
              "      <td>9.663588</td>\n",
              "      <td>1</td>\n",
              "    </tr>\n",
              "    <tr>\n",
              "      <th>1</th>\n",
              "      <td>12.581983309996724</td>\n",
              "      <td>[[1.4999834511328556], [[0.016961779355689082,...</td>\n",
              "      <td>[-17.83008145912034, -7.336530232908284e-05, 0...</td>\n",
              "      <td>[[563.8536687054245, -1035.980828694545, -61.4...</td>\n",
              "      <td>9.663690</td>\n",
              "      <td>1</td>\n",
              "    </tr>\n",
              "    <tr>\n",
              "      <th>2</th>\n",
              "      <td>12.582031945699564</td>\n",
              "      <td>[[1.4999807233750835], [[0.016965271005553735,...</td>\n",
              "      <td>[-17.83061769389761, 0.002424386730138318, 0.0...</td>\n",
              "      <td>[[563.8550044867804, -1035.9842290806794, -61....</td>\n",
              "      <td>9.663708</td>\n",
              "      <td>1</td>\n",
              "    </tr>\n",
              "    <tr>\n",
              "      <th>3</th>\n",
              "      <td>12.581839752819786</td>\n",
              "      <td>[[1.4999915028159891], [[0.016963808477723042,...</td>\n",
              "      <td>[-17.82927411865664, 0.0006721114197004121, 0....</td>\n",
              "      <td>[[563.8486918482294, -1035.981066858695, -61.4...</td>\n",
              "      <td>9.663635</td>\n",
              "      <td>1</td>\n",
              "    </tr>\n",
              "    <tr>\n",
              "      <th>4</th>\n",
              "      <td>12.58184973306049</td>\n",
              "      <td>[[1.4999909430589082], [[0.016963712884175423,...</td>\n",
              "      <td>[-17.829492231523997, 0.0011047464790956577, 0...</td>\n",
              "      <td>[[563.8488218561754, -1035.9809112264024, -61....</td>\n",
              "      <td>9.663638</td>\n",
              "      <td>1</td>\n",
              "    </tr>\n",
              "    <tr>\n",
              "      <th>...</th>\n",
              "      <td>...</td>\n",
              "      <td>...</td>\n",
              "      <td>...</td>\n",
              "      <td>...</td>\n",
              "      <td>...</td>\n",
              "      <td>...</td>\n",
              "    </tr>\n",
              "    <tr>\n",
              "      <th>95</th>\n",
              "      <td>0.0002501332095536473</td>\n",
              "      <td>[[0.505846891687429, 0.24266389883915343, 0.46...</td>\n",
              "      <td>[-0.03302612249827406, -0.010714367396972083, ...</td>\n",
              "      <td>[[425.8049810912018, 12.261220718270149, 265.7...</td>\n",
              "      <td>0.043088</td>\n",
              "      <td>7</td>\n",
              "    </tr>\n",
              "    <tr>\n",
              "      <th>96</th>\n",
              "      <td>3.582064022369935</td>\n",
              "      <td>[[0.6716159468685127, 0.4894606091933869, 0.17...</td>\n",
              "      <td>[-7.486238898653277, -3.0505633385001008, -4.0...</td>\n",
              "      <td>[[336.0034086151209, 111.56940199093965, 294.4...</td>\n",
              "      <td>5.156263</td>\n",
              "      <td>7</td>\n",
              "    </tr>\n",
              "    <tr>\n",
              "      <th>97</th>\n",
              "      <td>0.0919222504215417</td>\n",
              "      <td>[[0.3535212194567098, 0.23152876905617023, 0.4...</td>\n",
              "      <td>[-6.652642692703705e-05, -0.000414273166205404...</td>\n",
              "      <td>[[562.227951073226, 0.05823109735229211, 1.980...</td>\n",
              "      <td>0.825998</td>\n",
              "      <td>7</td>\n",
              "    </tr>\n",
              "    <tr>\n",
              "      <th>98</th>\n",
              "      <td>1.1080952774387471e-06</td>\n",
              "      <td>[[0.28125298874455773, 0.4122657611797322, 0.4...</td>\n",
              "      <td>[5.55444160145066e-06, -0.00015999322568690475...</td>\n",
              "      <td>[[836.8549671185025, 309.6021882826357, 659.34...</td>\n",
              "      <td>0.002868</td>\n",
              "      <td>7</td>\n",
              "    </tr>\n",
              "    <tr>\n",
              "      <th>99</th>\n",
              "      <td>0.09192225044272137</td>\n",
              "      <td>[[0.4285431886658322, 0.3535392894913064, 0.39...</td>\n",
              "      <td>[1.7321550850979318e-05, 5.600694020558062e-05...</td>\n",
              "      <td>[[900.7173744104957, 1.9794402385767234, 0.109...</td>\n",
              "      <td>0.825998</td>\n",
              "      <td>7</td>\n",
              "    </tr>\n",
              "  </tbody>\n",
              "</table>\n",
              "<p>700 rows × 6 columns</p>\n",
              "</div>"
            ],
            "text/plain": [
              "                      fval                                                sol  \\\n",
              "0       12.581718833709052  [[1.499998285091702], [[0.016963805330193742, ...   \n",
              "1       12.581983309996724  [[1.4999834511328556], [[0.016961779355689082,...   \n",
              "2       12.582031945699564  [[1.4999807233750835], [[0.016965271005553735,...   \n",
              "3       12.581839752819786  [[1.4999915028159891], [[0.016963808477723042,...   \n",
              "4        12.58184973306049  [[1.4999909430589082], [[0.016963712884175423,...   \n",
              "..                     ...                                                ...   \n",
              "95   0.0002501332095536473  [[0.505846891687429, 0.24266389883915343, 0.46...   \n",
              "96       3.582064022369935  [[0.6716159468685127, 0.4894606091933869, 0.17...   \n",
              "97      0.0919222504215417  [[0.3535212194567098, 0.23152876905617023, 0.4...   \n",
              "98  1.1080952774387471e-06  [[0.28125298874455773, 0.4122657611797322, 0.4...   \n",
              "99     0.09192225044272137  [[0.4285431886658322, 0.3535392894913064, 0.39...   \n",
              "\n",
              "                                                 grad  \\\n",
              "0   [-17.82871099334946, 0.0007514891085027748, 0....   \n",
              "1   [-17.83008145912034, -7.336530232908284e-05, 0...   \n",
              "2   [-17.83061769389761, 0.002424386730138318, 0.0...   \n",
              "3   [-17.82927411865664, 0.0006721114197004121, 0....   \n",
              "4   [-17.829492231523997, 0.0011047464790956577, 0...   \n",
              "..                                                ...   \n",
              "95  [-0.03302612249827406, -0.010714367396972083, ...   \n",
              "96  [-7.486238898653277, -3.0505633385001008, -4.0...   \n",
              "97  [-6.652642692703705e-05, -0.000414273166205404...   \n",
              "98  [5.55444160145066e-06, -0.00015999322568690475...   \n",
              "99  [1.7321550850979318e-05, 5.600694020558062e-05...   \n",
              "\n",
              "                                                 hess     normF  num_sources  \n",
              "0   [[563.8443437819735, -1035.97958430725, -61.45...  9.663588            1  \n",
              "1   [[563.8536687054245, -1035.980828694545, -61.4...  9.663690            1  \n",
              "2   [[563.8550044867804, -1035.9842290806794, -61....  9.663708            1  \n",
              "3   [[563.8486918482294, -1035.981066858695, -61.4...  9.663635            1  \n",
              "4   [[563.8488218561754, -1035.9809112264024, -61....  9.663638            1  \n",
              "..                                                ...       ...          ...  \n",
              "95  [[425.8049810912018, 12.261220718270149, 265.7...  0.043088            7  \n",
              "96  [[336.0034086151209, 111.56940199093965, 294.4...  5.156263            7  \n",
              "97  [[562.227951073226, 0.05823109735229211, 1.980...  0.825998            7  \n",
              "98  [[836.8549671185025, 309.6021882826357, 659.34...  0.002868            7  \n",
              "99  [[900.7173744104957, 1.9794402385767234, 0.109...  0.825998            7  \n",
              "\n",
              "[700 rows x 6 columns]"
            ]
          },
          "execution_count": 6,
          "metadata": {},
          "output_type": "execute_result"
        }
      ],
      "source": [
        "res"
      ]
    },
    {
      "cell_type": "code",
      "execution_count": 7,
      "metadata": {},
      "outputs": [
        {
          "data": {
            "text/html": [
              "<div>\n",
              "<style scoped>\n",
              "    .dataframe tbody tr th:only-of-type {\n",
              "        vertical-align: middle;\n",
              "    }\n",
              "\n",
              "    .dataframe tbody tr th {\n",
              "        vertical-align: top;\n",
              "    }\n",
              "\n",
              "    .dataframe thead th {\n",
              "        text-align: right;\n",
              "    }\n",
              "</style>\n",
              "<table border=\"1\" class=\"dataframe\">\n",
              "  <thead>\n",
              "    <tr style=\"text-align: right;\">\n",
              "      <th></th>\n",
              "      <th>num_source</th>\n",
              "      <th>aic_score</th>\n",
              "      <th>avg_sillhouette_score</th>\n",
              "      <th>min_sillhouette_score</th>\n",
              "      <th>reconstruction_loss</th>\n",
              "      <th>centers</th>\n",
              "    </tr>\n",
              "  </thead>\n",
              "  <tbody>\n",
              "    <tr>\n",
              "      <th>0</th>\n",
              "      <td>1</td>\n",
              "      <td>-1.323366e+04</td>\n",
              "      <td>1.000000</td>\n",
              "      <td>1.000000</td>\n",
              "      <td>9.663609</td>\n",
              "      <td>[1.4999953076601233, 0.016964138721764086, 0.2...</td>\n",
              "    </tr>\n",
              "    <tr>\n",
              "      <th>0</th>\n",
              "      <td>2</td>\n",
              "      <td>-1.573193e+04</td>\n",
              "      <td>1.000000</td>\n",
              "      <td>1.000000</td>\n",
              "      <td>3.409575</td>\n",
              "      <td>[[0.7655944318869105, 1.253664383459826], [0.1...</td>\n",
              "    </tr>\n",
              "    <tr>\n",
              "      <th>0</th>\n",
              "      <td>3</td>\n",
              "      <td>-1.802942e+04</td>\n",
              "      <td>1.000000</td>\n",
              "      <td>1.000000</td>\n",
              "      <td>1.307954</td>\n",
              "      <td>[[0.46166506383713446, 0.5184839901694848, 0.9...</td>\n",
              "    </tr>\n",
              "    <tr>\n",
              "      <th>0</th>\n",
              "      <td>4</td>\n",
              "      <td>-2.838404e+04</td>\n",
              "      <td>1.000000</td>\n",
              "      <td>1.000000</td>\n",
              "      <td>0.017478</td>\n",
              "      <td>[[0.7036251863772911, 0.4873827257132821, 0.41...</td>\n",
              "    </tr>\n",
              "    <tr>\n",
              "      <th>0</th>\n",
              "      <td>5</td>\n",
              "      <td>-3.285937e+04</td>\n",
              "      <td>0.997199</td>\n",
              "      <td>0.986333</td>\n",
              "      <td>0.002706</td>\n",
              "      <td>[[0.2991776359599604, 0.500009099045669, 0.200...</td>\n",
              "    </tr>\n",
              "    <tr>\n",
              "      <th>0</th>\n",
              "      <td>6</td>\n",
              "      <td>-3.285780e+04</td>\n",
              "      <td>0.751342</td>\n",
              "      <td>-0.327622</td>\n",
              "      <td>0.002705</td>\n",
              "      <td>[[0.15730101268626376, 0.19594412342580336, 0....</td>\n",
              "    </tr>\n",
              "    <tr>\n",
              "      <th>0</th>\n",
              "      <td>7</td>\n",
              "      <td>inf</td>\n",
              "      <td>0.232798</td>\n",
              "      <td>-0.441623</td>\n",
              "      <td>0.002741</td>\n",
              "      <td>[[0.4080085704974257, 0.174395023036632, 0.290...</td>\n",
              "    </tr>\n",
              "  </tbody>\n",
              "</table>\n",
              "</div>"
            ],
            "text/plain": [
              "   num_source     aic_score  avg_sillhouette_score  min_sillhouette_score  \\\n",
              "0           1 -1.323366e+04               1.000000               1.000000   \n",
              "0           2 -1.573193e+04               1.000000               1.000000   \n",
              "0           3 -1.802942e+04               1.000000               1.000000   \n",
              "0           4 -2.838404e+04               1.000000               1.000000   \n",
              "0           5 -3.285937e+04               0.997199               0.986333   \n",
              "0           6 -3.285780e+04               0.751342              -0.327622   \n",
              "0           7           inf               0.232798              -0.441623   \n",
              "\n",
              "   reconstruction_loss                                            centers  \n",
              "0             9.663609  [1.4999953076601233, 0.016964138721764086, 0.2...  \n",
              "0             3.409575  [[0.7655944318869105, 1.253664383459826], [0.1...  \n",
              "0             1.307954  [[0.46166506383713446, 0.5184839901694848, 0.9...  \n",
              "0             0.017478  [[0.7036251863772911, 0.4873827257132821, 0.41...  \n",
              "0             0.002706  [[0.2991776359599604, 0.500009099045669, 0.200...  \n",
              "0             0.002705  [[0.15730101268626376, 0.19594412342580336, 0....  \n",
              "0             0.002741  [[0.4080085704974257, 0.174395023036632, 0.290...  "
            ]
          },
          "execution_count": 7,
          "metadata": {},
          "output_type": "execute_result"
        }
      ],
      "source": [
        "Forclusts"
      ]
    },
    {
      "cell_type": "code",
      "execution_count": 8,
      "metadata": {},
      "outputs": [],
      "source": [
        "def plot_results_stability_plot(numsources,avgsilsall,minsillsall,recs_all, output_dir):\n",
        "    fig, ax1 = plt.subplots()\n",
        "    color = 'tab:blue'\n",
        "    ax1.set_xlabel('Number of Sources')\n",
        "    ax1.set_ylabel('Reconstruction Error [%]', color=color)  # we already handled the x-label with ax1\n",
        "    ax1.plot(numsources, recs_all, color=color,marker = 'o')\n",
        "    ax1.tick_params(axis='y', labelcolor=color)\n",
        "    ax2 = ax1.twinx()  # instantiate a second axes that shares the same x-axis\n",
        "    color = 'tab:red'\n",
        "    ax2.set_ylabel('Silhouette Score', color=color)\n",
        "    ax2.plot(numsources, avgsilsall, color=color,label='Avg_sil',marker = 'o')\n",
        "    ax2.tick_params(axis='y', labelcolor=color)\n",
        "    ax2.plot(numsources, minsillsall, color='pink', label='Min_sill', marker='o')\n",
        "    ax2.legend(loc='upper right')\n",
        "    fig.tight_layout()  # otherwise the right y-label is slightly clipped\n",
        "    plt.savefig(output_dir+\"Selection_plot.png\")\n",
        "    plt.show()"
      ]
    },
    {
      "cell_type": "code",
      "execution_count": 9,
      "metadata": {},
      "outputs": [
        {
          "data": {
            "image/png": "[encoded data removed]",
            "text/plain": [
              "<Figure size 640x480 with 2 Axes>"
            ]
          },
          "metadata": {},
          "output_type": "display_data"
        }
      ],
      "source": [
        "OUTPUTDIR = \"Results/\"\n",
        "os.makedirs(OUTPUTDIR,exist_ok=True)\n",
        "\n",
        "numsources = Forclusts['num_source'].values\n",
        "avgsilsall    = Forclusts['avg_sillhouette_score'].values\n",
        "minsillsall   = Forclusts['min_sillhouette_score'].values\n",
        "recs_all   = Forclusts['reconstruction_loss'].values\n",
        "plot_results_stability_plot(numsources,avgsilsall,minsillsall,recs_all,OUTPUTDIR)"
      ]
    },
    {
      "cell_type": "code",
      "execution_count": 10,
      "metadata": {},
      "outputs": [
        {
          "data": {
            "text/plain": [
              "array([[ 0.29917764,  0.5000091 ,  0.2006966 ,  0.40003249,  0.70000833],\n",
              "       [-0.07991439,  0.09998775, -0.14989708, -0.25000166,  0.29994055],\n",
              "       [ 0.19997993, -0.09999486,  0.24982615,  0.44999184,  0.29999168],\n",
              "       [ 0.04999982,  0.04999982,  0.04999982,  0.04999982,  0.04999982],\n",
              "       [ 0.00499993,  0.00499993,  0.00499993,  0.00499993,  0.00499993],\n",
              "       [ 0.00125003,  0.00125003,  0.00125003,  0.00125003,  0.00125003]])"
            ]
          },
          "execution_count": 10,
          "metadata": {},
          "output_type": "execute_result"
        }
      ],
      "source": [
        "Forclusts['centers'].iloc[4]"
      ]
    },
    {
      "cell_type": "code",
      "execution_count": 11,
      "metadata": {
        "colab": {
          "base_uri": "https://localhost:8080/"
        },
        "id": "X2UoxPrhIO0D",
        "outputId": "62956299-0baa-47f7-811a-9fa76565a2b7"
      },
      "outputs": [
        {
          "data": {
            "text/plain": [
              "array([[ 0.4 ,  0.3 ,  0.2 ,  0.5 ,  0.7 ],\n",
              "       [-0.25, -0.08, -0.15,  0.1 ,  0.3 ],\n",
              "       [ 0.45,  0.2 ,  0.25, -0.1 ,  0.3 ]])"
            ]
          },
          "execution_count": 11,
          "metadata": {},
          "output_type": "execute_result"
        }
      ],
      "source": [
        "ground_truth=np.vstack([As,Xs.T])\n",
        "ground_truth"
      ]
    }
  ],
  "metadata": {
    "colab": {
      "authorship_tag": "ABX9TyPC9nWDImGL6+nVkb9Bo85F",
      "gpuType": "T4",
      "include_colab_link": true,
      "provenance": []
    },
    "kernelspec": {
      "display_name": "Python 3",
      "name": "python3"
    },
    "language_info": {
      "codemirror_mode": {
        "name": "ipython",
        "version": 3
      },
      "file_extension": ".py",
      "mimetype": "text/x-python",
      "name": "python",
      "nbconvert_exporter": "python",
      "pygments_lexer": "ipython3",
      "version": "3.10.13"
    }
  },
  "nbformat": 4,
  "nbformat_minor": 0
}
