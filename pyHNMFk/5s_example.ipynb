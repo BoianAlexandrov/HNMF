{
  "cells": [
    {
      "cell_type": "code",
      "execution_count": 1,
      "metadata": {},
      "outputs": [],
      "source": [
        "# import os\n",
        "# cpu_count = os.cpu_count()\n",
        "# os.environ[\"XLA_FLAGS\"] = f'--xla_force_host_platform_device_count={cpu_count}'\n",
        "# os.environ[\"XLA_FLAGS\"] = f'--xla_force_host_platform_device_count={1}'"
      ]
    },
    {
      "cell_type": "code",
      "execution_count": 2,
      "metadata": {
        "id": "2v0MLj8T5txU"
      },
      "outputs": [],
      "source": [
        "import logging\n",
        "import os\n",
        "\n",
        "from matplotlib import pyplot as plt\n",
        "import numpy as np\n",
        "\n",
        "from src.hnmf_optimizer import HNMFOptimizer\n",
        "from src.clusts import result_analysis\n",
        "from green_model import reconstruct_general, gen_init_params,  gen_bounds, clustering_preprocess\n"
      ]
    },
    {
      "cell_type": "markdown",
      "metadata": {},
      "source": [
        "# set true variables"
      ]
    },
    {
      "cell_type": "code",
      "execution_count": 3,
      "metadata": {
        "id": "ZNE81o8ltkGg"
      },
      "outputs": [],
      "source": [
        "#~~~~~~~~~~~~~~~~~~~~~~~~~~~~~~~~~~~~~~~~~~~~~~~~~~~~~~~~~~~#\n",
        "#       set true variables for generated observations       #\n",
        "#~~~~~~~~~~~~~~~~~~~~~~~~~~~~~~~~~~~~~~~~~~~~~~~~~~~~~~~~~~~#\n",
        "\n",
        "### parameters ###\n",
        "\n",
        "# # 5 sources\n",
        "As = np.array([0.4, 0.3,0.2,0.5,0.7])\n",
        "# positions of the source\n",
        "Xs = np.array([\n",
        "  [-0.25,0.45],\n",
        "  [-0.08,0.2],\n",
        "  [-0.15,0.25],\n",
        "  [0.1,-0.1],\n",
        "  [0.3,0.3]\n",
        "])\n",
        "\n",
        "# Advection velocity\n",
        "u_scaler = 0.05\n",
        "# U = tf_c(np.array([0.05, 0]))\n",
        "# Dispersivity\n",
        "D = np.array([0.005, 0.00125])\n",
        "\n",
        "\n",
        "### fixed known values ###\n",
        "\n",
        "# the initial time the sources begin the release\n",
        "Ts = -10.\n",
        "\n",
        "Xd = np.array([\n",
        "[ -0.2,0.6],\n",
        "[0,0.6],\n",
        "[0.2,0.6],\n",
        "[0.4,0.6],\n",
        "[0.6,0.6],\n",
        "[-0.2,0.4],\n",
        "[0,0.4],\n",
        "[0.2,0.4],\n",
        "[0.4,0.4],\n",
        "[0.6,0.4],\n",
        "[-0.2,0.2],\n",
        "[0,0.2],\n",
        "[0.2,0.2],\n",
        "[0.4,0.2],\n",
        "[0.6,0.2],\n",
        "[-0.2,0.0],\n",
        "[0,0.0],\n",
        "[0.2,0.0],\n",
        "[0.4,0.0],\n",
        "[0.6,0.0],\n",
        "[-0.2,-0.2],\n",
        "[0,-0.2],\n",
        "[0.2,-0.2],\n",
        "[0.4,-0.2],\n",
        "[0.6,-0.2],\n",
        "[-0.2,-0.4],\n",
        "[0,-0.4],\n",
        "[0.2,-0.4],\n",
        "[0.4,-0.4],\n",
        "[0.6,-0.4]\n",
        "])\n",
        "\n",
        "# time values of data\n",
        "t = np.linspace(0, 20, 80)\n",
        "\n",
        "# noise to add to \n",
        "noise_level = 1e-4\n"
      ]
    },
    {
      "cell_type": "markdown",
      "metadata": {
        "id": "78TuI3sQuJiF"
      },
      "source": [
        "# NMF run"
      ]
    },
    {
      "cell_type": "code",
      "execution_count": 4,
      "metadata": {
        "colab": {
          "base_uri": "https://localhost:8080/"
        },
        "id": "104CUyVIsXb_",
        "outputId": "1a3f7524-de0e-44a1-c09b-dfb2b9e3ca8e"
      },
      "outputs": [
        {
          "name": "stderr",
          "output_type": "stream",
          "text": [
            "WARNING: All log messages before absl::InitializeLog() is called are written to STDERR\n",
            "I0000 00:00:1697844494.436061    3779 tfrt_cpu_pjrt_client.cc:349] TfrtCpuClient created.\n",
            "No GPU/TPU found, falling back to CPU. (Set TF_CPP_MIN_LOG_LEVEL=0 and rerun for more info.)\n"
          ]
        }
      ],
      "source": [
        "# generate observations from target variables with small noise\n",
        "\n",
        "noise_level = 1e-4\n",
        "observations = reconstruct_general(As, Xs, Ts, Xd, t, np.array([u_scaler]), D)\n",
        "noise = noise_level/2 - noise_level*np.random.rand(*observations.shape)\n",
        "observations += noise"
      ]
    },
    {
      "cell_type": "code",
      "execution_count": 5,
      "metadata": {},
      "outputs": [
        {
          "name": "stdout",
          "output_type": "stream",
          "text": [
            "SIMULATIONS FOR 1 SOURCES TOOK 13.185152769088745 SECONDS\n",
            "SIMULATIONS FOR 2 SOURCES TOOK 8.560484647750854 SECONDS\n",
            "SIMULATIONS FOR 3 SOURCES TOOK 10.564750909805298 SECONDS\n",
            "SIMULATIONS FOR 4 SOURCES TOOK 13.28142523765564 SECONDS\n",
            "SIMULATIONS FOR 5 SOURCES TOOK 118.2323362827301 SECONDS\n",
            "SIMULATIONS FOR 6 SOURCES TOOK 104.30181097984314 SECONDS\n",
            "SIMULATIONS FOR 7 SOURCES TOOK 74.45330452919006 SECONDS\n",
            "Clustering  2\n",
            "Clustering  3\n",
            "Clustering  4\n",
            "Clustering  5\n",
            "Clustering  6\n",
            "Clustering  7\n"
          ]
        }
      ],
      "source": [
        "green_opt = HNMFOptimizer(\n",
        "    model_fn = reconstruct_general,\n",
        "    param_generator = gen_init_params,\n",
        "    bound_generator = gen_bounds,\n",
        "    input_args = ('t',),\n",
        "    param_args = ('A_s', 'X_s', 'U', 'D'),\n",
        "    constants = {'T_s': Ts, 'X_d': Xd},\n",
        "    min_k = 1,\n",
        "    max_k = 7,\n",
        "    nsim = 100\n",
        ")\n",
        "\n",
        "res = green_opt(\n",
        "    t,\n",
        "    observations,\n",
        "    opt_options = {\n",
        "        'maxiter': 1500,\n",
        "        'xtol': 1e-6,\n",
        "        'fatol': 1e-10,\n",
        "    }\n",
        ")\n",
        "Forclusts = clustering_preprocess(res)\n",
        "\n",
        "Forclusts = Forclusts.groupby('num_sources', group_keys=False).apply(lambda group: result_analysis(\n",
        "    group['points'].sum(),\n",
        "    group['normF'].mean(),\n",
        "    observations.size,\n",
        "    group['num_sources'].iloc[0]\n",
        "))"
      ]
    },
    {
      "cell_type": "code",
      "execution_count": 6,
      "metadata": {},
      "outputs": [
        {
          "data": {
            "text/html": [
              "<div>\n",
              "<style scoped>\n",
              "    .dataframe tbody tr th:only-of-type {\n",
              "        vertical-align: middle;\n",
              "    }\n",
              "\n",
              "    .dataframe tbody tr th {\n",
              "        vertical-align: top;\n",
              "    }\n",
              "\n",
              "    .dataframe thead th {\n",
              "        text-align: right;\n",
              "    }\n",
              "</style>\n",
              "<table border=\"1\" class=\"dataframe\">\n",
              "  <thead>\n",
              "    <tr style=\"text-align: right;\">\n",
              "      <th></th>\n",
              "      <th>num_source</th>\n",
              "      <th>aic_score</th>\n",
              "      <th>avg_sillhouette_score</th>\n",
              "      <th>min_sillhouette_score</th>\n",
              "      <th>reconstruction_loss</th>\n",
              "      <th>centers</th>\n",
              "    </tr>\n",
              "  </thead>\n",
              "  <tbody>\n",
              "    <tr>\n",
              "      <th>0</th>\n",
              "      <td>1</td>\n",
              "      <td>-1.323363e+04</td>\n",
              "      <td>1.000000</td>\n",
              "      <td>1.000000</td>\n",
              "      <td>9.663721</td>\n",
              "      <td>[1.4999968128831227, 0.016963587699956678, 0.2...</td>\n",
              "    </tr>\n",
              "    <tr>\n",
              "      <th>0</th>\n",
              "      <td>2</td>\n",
              "      <td>-1.573192e+04</td>\n",
              "      <td>1.000000</td>\n",
              "      <td>1.000000</td>\n",
              "      <td>3.409580</td>\n",
              "      <td>[[1.2536621710673659, 0.7656066711634112], [-0...</td>\n",
              "    </tr>\n",
              "    <tr>\n",
              "      <th>0</th>\n",
              "      <td>3</td>\n",
              "      <td>-1.802935e+04</td>\n",
              "      <td>1.000000</td>\n",
              "      <td>1.000000</td>\n",
              "      <td>1.307993</td>\n",
              "      <td>[[0.5184946619812346, 0.46163994422173354, 0.9...</td>\n",
              "    </tr>\n",
              "    <tr>\n",
              "      <th>0</th>\n",
              "      <td>4</td>\n",
              "      <td>-2.838573e+04</td>\n",
              "      <td>1.000000</td>\n",
              "      <td>1.000000</td>\n",
              "      <td>0.017466</td>\n",
              "      <td>[[0.7036228299013093, 0.5046672852409937, 0.41...</td>\n",
              "    </tr>\n",
              "    <tr>\n",
              "      <th>0</th>\n",
              "      <td>5</td>\n",
              "      <td>-3.282014e+04</td>\n",
              "      <td>0.998179</td>\n",
              "      <td>0.991134</td>\n",
              "      <td>0.002750</td>\n",
              "      <td>[[0.19735396681678208, 0.7000365667239944, 0.4...</td>\n",
              "    </tr>\n",
              "    <tr>\n",
              "      <th>0</th>\n",
              "      <td>6</td>\n",
              "      <td>inf</td>\n",
              "      <td>0.433554</td>\n",
              "      <td>-0.622740</td>\n",
              "      <td>0.002748</td>\n",
              "      <td>[[0.30424036920005454, 0.39518085945019243, 0....</td>\n",
              "    </tr>\n",
              "    <tr>\n",
              "      <th>0</th>\n",
              "      <td>7</td>\n",
              "      <td>inf</td>\n",
              "      <td>0.340099</td>\n",
              "      <td>-0.392761</td>\n",
              "      <td>0.002827</td>\n",
              "      <td>[[0.296954230562555, 0.5892364383980848, 0.423...</td>\n",
              "    </tr>\n",
              "  </tbody>\n",
              "</table>\n",
              "</div>"
            ],
            "text/plain": [
              "   num_source     aic_score  avg_sillhouette_score  min_sillhouette_score  \\\n",
              "0           1 -1.323363e+04               1.000000               1.000000   \n",
              "0           2 -1.573192e+04               1.000000               1.000000   \n",
              "0           3 -1.802935e+04               1.000000               1.000000   \n",
              "0           4 -2.838573e+04               1.000000               1.000000   \n",
              "0           5 -3.282014e+04               0.998179               0.991134   \n",
              "0           6           inf               0.433554              -0.622740   \n",
              "0           7           inf               0.340099              -0.392761   \n",
              "\n",
              "   reconstruction_loss                                            centers  \n",
              "0             9.663721  [1.4999968128831227, 0.016963587699956678, 0.2...  \n",
              "0             3.409580  [[1.2536621710673659, 0.7656066711634112], [-0...  \n",
              "0             1.307993  [[0.5184946619812346, 0.46163994422173354, 0.9...  \n",
              "0             0.017466  [[0.7036228299013093, 0.5046672852409937, 0.41...  \n",
              "0             0.002750  [[0.19735396681678208, 0.7000365667239944, 0.4...  \n",
              "0             0.002748  [[0.30424036920005454, 0.39518085945019243, 0....  \n",
              "0             0.002827  [[0.296954230562555, 0.5892364383980848, 0.423...  "
            ]
          },
          "execution_count": 6,
          "metadata": {},
          "output_type": "execute_result"
        }
      ],
      "source": [
        "Forclusts"
      ]
    },
    {
      "cell_type": "code",
      "execution_count": 7,
      "metadata": {},
      "outputs": [],
      "source": [
        "def plot_results_stability_plot(numsources,avgsilsall,minsillsall,recs_all, output_dir):\n",
        "    fig, ax1 = plt.subplots()\n",
        "    color = 'tab:blue'\n",
        "    ax1.set_xlabel('Number of Sources')\n",
        "    ax1.set_ylabel('Reconstruction Error [%]', color=color)  # we already handled the x-label with ax1\n",
        "    ax1.plot(numsources, recs_all, color=color,marker = 'o')\n",
        "    ax1.tick_params(axis='y', labelcolor=color)\n",
        "    ax2 = ax1.twinx()  # instantiate a second axes that shares the same x-axis\n",
        "    color = 'tab:red'\n",
        "    ax2.set_ylabel('Silhouette Score', color=color)\n",
        "    ax2.plot(numsources, avgsilsall, color=color,label='Avg_sil',marker = 'o')\n",
        "    ax2.tick_params(axis='y', labelcolor=color)\n",
        "    ax2.plot(numsources, minsillsall, color='pink', label='Min_sill', marker='o')\n",
        "    ax2.legend(loc='upper right')\n",
        "    fig.tight_layout()  # otherwise the right y-label is slightly clipped\n",
        "    plt.savefig(output_dir+\"Selection_plot.png\")\n",
        "    plt.show()"
      ]
    },
    {
      "cell_type": "code",
      "execution_count": 8,
      "metadata": {},
      "outputs": [
        {
          "data": {
            "image/png": "[encoded data removed]",
            "text/plain": [
              "<Figure size 640x480 with 2 Axes>"
            ]
          },
          "metadata": {},
          "output_type": "display_data"
        }
      ],
      "source": [
        "OUTPUTDIR = \"Results/\"\n",
        "os.makedirs(OUTPUTDIR,exist_ok=True)\n",
        "\n",
        "numsources = Forclusts['num_source'].values\n",
        "avgsilsall    = Forclusts['avg_sillhouette_score'].values\n",
        "minsillsall   = Forclusts['min_sillhouette_score'].values\n",
        "recs_all   = Forclusts['reconstruction_loss'].values\n",
        "plot_results_stability_plot(numsources,avgsilsall,minsillsall,recs_all,OUTPUTDIR)"
      ]
    },
    {
      "cell_type": "code",
      "execution_count": 9,
      "metadata": {},
      "outputs": [
        {
          "data": {
            "text/plain": [
              "array([[ 0.19735397,  0.70003657,  0.49999679,  0.39986802,  0.30271672],\n",
              "       [-0.15052507,  0.29996125,  0.10000706, -0.25001308, -0.08037543],\n",
              "       [ 0.25052655,  0.29999648, -0.10000335,  0.45002224,  0.20015592],\n",
              "       [ 0.05000001,  0.05000001,  0.05000001,  0.05000001,  0.05000001],\n",
              "       [ 0.00499997,  0.00499997,  0.00499997,  0.00499997,  0.00499997],\n",
              "       [ 0.00125   ,  0.00125   ,  0.00125   ,  0.00125   ,  0.00125   ]])"
            ]
          },
          "execution_count": 9,
          "metadata": {},
          "output_type": "execute_result"
        }
      ],
      "source": [
        "Forclusts['centers'].iloc[4]"
      ]
    },
    {
      "cell_type": "code",
      "execution_count": 10,
      "metadata": {
        "colab": {
          "base_uri": "https://localhost:8080/"
        },
        "id": "X2UoxPrhIO0D",
        "outputId": "62956299-0baa-47f7-811a-9fa76565a2b7"
      },
      "outputs": [
        {
          "data": {
            "text/plain": [
              "array([[ 0.4 ,  0.3 ,  0.2 ,  0.5 ,  0.7 ],\n",
              "       [-0.25, -0.08, -0.15,  0.1 ,  0.3 ],\n",
              "       [ 0.45,  0.2 ,  0.25, -0.1 ,  0.3 ]])"
            ]
          },
          "execution_count": 10,
          "metadata": {},
          "output_type": "execute_result"
        }
      ],
      "source": [
        "ground_truth=np.vstack([As,Xs.T])\n",
        "ground_truth"
      ]
    }
  ],
  "metadata": {
    "colab": {
      "authorship_tag": "ABX9TyPC9nWDImGL6+nVkb9Bo85F",
      "gpuType": "T4",
      "include_colab_link": true,
      "provenance": []
    },
    "kernelspec": {
      "display_name": "Python 3",
      "name": "python3"
    },
    "language_info": {
      "codemirror_mode": {
        "name": "ipython",
        "version": 3
      },
      "file_extension": ".py",
      "mimetype": "text/x-python",
      "name": "python",
      "nbconvert_exporter": "python",
      "pygments_lexer": "ipython3",
      "version": "3.10.13"
    }
  },
  "nbformat": 4,
  "nbformat_minor": 0
}
